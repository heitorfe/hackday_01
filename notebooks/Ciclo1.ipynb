{
 "cells": [
  {
   "cell_type": "markdown",
   "id": "a0d43e12",
   "metadata": {},
   "source": [
    "# Imports"
   ]
  },
  {
   "cell_type": "code",
   "execution_count": 212,
   "id": "9f6afde7",
   "metadata": {
    "ExecuteTime": {
     "end_time": "2022-05-28T15:13:11.252048Z",
     "start_time": "2022-05-28T15:13:10.742083Z"
    }
   },
   "outputs": [],
   "source": [
    "import pandas as pd\n",
    "import numpy as np\n",
    "import seaborn as sns\n",
    "from scipy import stats\n",
    "from sklearn import metrics\n",
    "\n",
    "from sklearn import preprocessing as pp\n",
    "from sklearn import model_selection   as ms\n",
    "from sklearn import ensemble          as en\n",
    "\n",
    "import scikitplot as skplt"
   ]
  },
  {
   "cell_type": "markdown",
   "id": "87d21380",
   "metadata": {},
   "source": [
    "# Load Data"
   ]
  },
  {
   "cell_type": "markdown",
   "id": "49b80059",
   "metadata": {},
   "source": [
    "## Helper Functions"
   ]
  },
  {
   "cell_type": "code",
   "execution_count": 8,
   "id": "4ff5e128",
   "metadata": {
    "ExecuteTime": {
     "end_time": "2022-05-28T13:10:28.467942Z",
     "start_time": "2022-05-28T13:10:28.366553Z"
    }
   },
   "outputs": [],
   "source": [
    "df_raw = pd.read_csv('./data/train.csv')\n",
    "df_test = pd.read_csv('./data/test.csv')"
   ]
  },
  {
   "cell_type": "code",
   "execution_count": 88,
   "id": "d23c2de1",
   "metadata": {
    "ExecuteTime": {
     "end_time": "2022-05-28T13:42:19.342694Z",
     "start_time": "2022-05-28T13:42:19.335228Z"
    }
   },
   "outputs": [],
   "source": [
    "def cramer_v(x,y):\n",
    "    cm = pd.crosstab(x,y).values\n",
    "    n = cm.sum()\n",
    "    r, k = cm.shape\n",
    "    \n",
    "    chi2 = stats.chi2_contingency(cm)[0]\n",
    "    chi2corr = max(0, chi2 - (k-1)*(r-1)/(n-1))\n",
    "    \n",
    "    kcorr = k - (k-1)**2/(n-1)\n",
    "    rcorr = r - (r-1)**2/(n-1)\n",
    "    \n",
    "    return np.sqrt((chi2corr/n) / min(kcorr-1, rcorr-1))"
   ]
  },
  {
   "cell_type": "code",
   "execution_count": 9,
   "id": "02b35ae8",
   "metadata": {
    "ExecuteTime": {
     "end_time": "2022-05-28T13:10:34.003079Z",
     "start_time": "2022-05-28T13:10:33.995898Z"
    }
   },
   "outputs": [
    {
     "data": {
      "text/plain": [
       "Index(['country', 'year', 'uniqueid', 'location_type', 'cellphone_access',\n",
       "       'household_size', 'age_of_respondent', 'gender_of_respondent',\n",
       "       'relationship_with_head', 'marital_status', 'education_level',\n",
       "       'job_type', 'uid', 'bank_account'],\n",
       "      dtype='object')"
      ]
     },
     "execution_count": 9,
     "metadata": {},
     "output_type": "execute_result"
    }
   ],
   "source": [
    "df_raw.columns"
   ]
  },
  {
   "cell_type": "markdown",
   "id": "51d9823c",
   "metadata": {},
   "source": [
    "# Data Description"
   ]
  },
  {
   "cell_type": "code",
   "execution_count": 13,
   "id": "af4af66b",
   "metadata": {
    "ExecuteTime": {
     "end_time": "2022-05-28T13:12:20.888363Z",
     "start_time": "2022-05-28T13:12:20.878495Z"
    }
   },
   "outputs": [
    {
     "data": {
      "text/plain": [
       "(11762, 14)"
      ]
     },
     "execution_count": 13,
     "metadata": {},
     "output_type": "execute_result"
    }
   ],
   "source": [
    "df1 = df_raw.copy()\n",
    "\n",
    "df1.shape"
   ]
  },
  {
   "cell_type": "markdown",
   "id": "6cf09449",
   "metadata": {},
   "source": [
    "## Dtypes"
   ]
  },
  {
   "cell_type": "code",
   "execution_count": 14,
   "id": "0e70d4d9",
   "metadata": {
    "ExecuteTime": {
     "end_time": "2022-05-28T13:12:40.653316Z",
     "start_time": "2022-05-28T13:12:40.644488Z"
    }
   },
   "outputs": [
    {
     "data": {
      "text/plain": [
       "country                   object\n",
       "year                       int64\n",
       "uniqueid                  object\n",
       "location_type             object\n",
       "cellphone_access          object\n",
       "household_size             int64\n",
       "age_of_respondent          int64\n",
       "gender_of_respondent      object\n",
       "relationship_with_head    object\n",
       "marital_status            object\n",
       "education_level           object\n",
       "job_type                  object\n",
       "uid                       object\n",
       "bank_account              object\n",
       "dtype: object"
      ]
     },
     "execution_count": 14,
     "metadata": {},
     "output_type": "execute_result"
    }
   ],
   "source": [
    "df1.dtypes"
   ]
  },
  {
   "cell_type": "code",
   "execution_count": 15,
   "id": "680e898f",
   "metadata": {
    "ExecuteTime": {
     "end_time": "2022-05-28T13:12:51.162162Z",
     "start_time": "2022-05-28T13:12:51.110855Z"
    }
   },
   "outputs": [
    {
     "data": {
      "text/html": [
       "<div>\n",
       "<style scoped>\n",
       "    .dataframe tbody tr th:only-of-type {\n",
       "        vertical-align: middle;\n",
       "    }\n",
       "\n",
       "    .dataframe tbody tr th {\n",
       "        vertical-align: top;\n",
       "    }\n",
       "\n",
       "    .dataframe thead th {\n",
       "        text-align: right;\n",
       "    }\n",
       "</style>\n",
       "<table border=\"1\" class=\"dataframe\">\n",
       "  <thead>\n",
       "    <tr style=\"text-align: right;\">\n",
       "      <th></th>\n",
       "      <th>7081</th>\n",
       "    </tr>\n",
       "  </thead>\n",
       "  <tbody>\n",
       "    <tr>\n",
       "      <th>country</th>\n",
       "      <td>Rwanda</td>\n",
       "    </tr>\n",
       "    <tr>\n",
       "      <th>year</th>\n",
       "      <td>2016</td>\n",
       "    </tr>\n",
       "    <tr>\n",
       "      <th>uniqueid</th>\n",
       "      <td>uniqueid_3192</td>\n",
       "    </tr>\n",
       "    <tr>\n",
       "      <th>location_type</th>\n",
       "      <td>Urban</td>\n",
       "    </tr>\n",
       "    <tr>\n",
       "      <th>cellphone_access</th>\n",
       "      <td>Yes</td>\n",
       "    </tr>\n",
       "    <tr>\n",
       "      <th>household_size</th>\n",
       "      <td>4</td>\n",
       "    </tr>\n",
       "    <tr>\n",
       "      <th>age_of_respondent</th>\n",
       "      <td>48</td>\n",
       "    </tr>\n",
       "    <tr>\n",
       "      <th>gender_of_respondent</th>\n",
       "      <td>Female</td>\n",
       "    </tr>\n",
       "    <tr>\n",
       "      <th>relationship_with_head</th>\n",
       "      <td>Spouse</td>\n",
       "    </tr>\n",
       "    <tr>\n",
       "      <th>marital_status</th>\n",
       "      <td>Married/Living together</td>\n",
       "    </tr>\n",
       "    <tr>\n",
       "      <th>education_level</th>\n",
       "      <td>Primary education</td>\n",
       "    </tr>\n",
       "    <tr>\n",
       "      <th>job_type</th>\n",
       "      <td>Dont Know/Refuse to answer</td>\n",
       "    </tr>\n",
       "    <tr>\n",
       "      <th>uid</th>\n",
       "      <td>Rwanda_uniqueid_3192</td>\n",
       "    </tr>\n",
       "    <tr>\n",
       "      <th>bank_account</th>\n",
       "      <td>Yes</td>\n",
       "    </tr>\n",
       "  </tbody>\n",
       "</table>\n",
       "</div>"
      ],
      "text/plain": [
       "                                              7081\n",
       "country                                     Rwanda\n",
       "year                                          2016\n",
       "uniqueid                             uniqueid_3192\n",
       "location_type                                Urban\n",
       "cellphone_access                               Yes\n",
       "household_size                                   4\n",
       "age_of_respondent                               48\n",
       "gender_of_respondent                        Female\n",
       "relationship_with_head                      Spouse\n",
       "marital_status             Married/Living together\n",
       "education_level                  Primary education\n",
       "job_type                Dont Know/Refuse to answer\n",
       "uid                           Rwanda_uniqueid_3192\n",
       "bank_account                                   Yes"
      ]
     },
     "execution_count": 15,
     "metadata": {},
     "output_type": "execute_result"
    }
   ],
   "source": [
    "df1.sample().T"
   ]
  },
  {
   "cell_type": "markdown",
   "id": "c93c8b27",
   "metadata": {
    "ExecuteTime": {
     "end_time": "2022-05-28T13:13:37.841797Z",
     "start_time": "2022-05-28T13:13:37.819575Z"
    }
   },
   "source": [
    "## Check NA"
   ]
  },
  {
   "cell_type": "code",
   "execution_count": 19,
   "id": "8e8acd95",
   "metadata": {
    "ExecuteTime": {
     "end_time": "2022-05-28T13:14:44.156697Z",
     "start_time": "2022-05-28T13:14:44.137126Z"
    }
   },
   "outputs": [
    {
     "data": {
      "text/plain": [
       "country                   0\n",
       "year                      0\n",
       "uniqueid                  0\n",
       "location_type             0\n",
       "cellphone_access          0\n",
       "household_size            0\n",
       "age_of_respondent         0\n",
       "gender_of_respondent      0\n",
       "relationship_with_head    0\n",
       "marital_status            0\n",
       "education_level           0\n",
       "job_type                  0\n",
       "uid                       0\n",
       "bank_account              0\n",
       "dtype: int64"
      ]
     },
     "execution_count": 19,
     "metadata": {},
     "output_type": "execute_result"
    }
   ],
   "source": [
    "df1.isna().sum()"
   ]
  },
  {
   "cell_type": "markdown",
   "id": "7cd69c0b",
   "metadata": {
    "ExecuteTime": {
     "end_time": "2022-05-28T13:27:16.475408Z",
     "start_time": "2022-05-28T13:27:16.468880Z"
    }
   },
   "source": [
    "## Change types"
   ]
  },
  {
   "cell_type": "code",
   "execution_count": 44,
   "id": "18a676fc",
   "metadata": {
    "ExecuteTime": {
     "end_time": "2022-05-28T13:27:54.471765Z",
     "start_time": "2022-05-28T13:27:54.457168Z"
    }
   },
   "outputs": [],
   "source": [
    "df1['bank_account'] = df1['bank_account'].apply(lambda x: 1 if x=='Yes' else 0)"
   ]
  },
  {
   "cell_type": "markdown",
   "id": "92670e88",
   "metadata": {},
   "source": [
    "# Estatísticas descritiva"
   ]
  },
  {
   "cell_type": "code",
   "execution_count": 45,
   "id": "e1742174",
   "metadata": {
    "ExecuteTime": {
     "end_time": "2022-05-28T13:27:59.438765Z",
     "start_time": "2022-05-28T13:27:59.425946Z"
    }
   },
   "outputs": [],
   "source": [
    "num_attributes = df1.select_dtypes(['int64', 'float64'])\n",
    "\n",
    "cat_attributes = df1.select_dtypes(exclude = ['int64', 'float64'])"
   ]
  },
  {
   "cell_type": "code",
   "execution_count": 46,
   "id": "caa32eff",
   "metadata": {
    "ExecuteTime": {
     "end_time": "2022-05-28T13:27:59.644371Z",
     "start_time": "2022-05-28T13:27:59.561949Z"
    }
   },
   "outputs": [
    {
     "data": {
      "text/html": [
       "<div>\n",
       "<style scoped>\n",
       "    .dataframe tbody tr th:only-of-type {\n",
       "        vertical-align: middle;\n",
       "    }\n",
       "\n",
       "    .dataframe tbody tr th {\n",
       "        vertical-align: top;\n",
       "    }\n",
       "\n",
       "    .dataframe thead th {\n",
       "        text-align: right;\n",
       "    }\n",
       "</style>\n",
       "<table border=\"1\" class=\"dataframe\">\n",
       "  <thead>\n",
       "    <tr style=\"text-align: right;\">\n",
       "      <th></th>\n",
       "      <th>year</th>\n",
       "      <th>household_size</th>\n",
       "      <th>age_of_respondent</th>\n",
       "      <th>bank_account</th>\n",
       "    </tr>\n",
       "  </thead>\n",
       "  <tbody>\n",
       "    <tr>\n",
       "      <th>count</th>\n",
       "      <td>11762.000000</td>\n",
       "      <td>11762.000000</td>\n",
       "      <td>11762.000000</td>\n",
       "      <td>11762.000000</td>\n",
       "    </tr>\n",
       "    <tr>\n",
       "      <th>mean</th>\n",
       "      <td>2016.983336</td>\n",
       "      <td>3.793913</td>\n",
       "      <td>38.602364</td>\n",
       "      <td>0.143258</td>\n",
       "    </tr>\n",
       "    <tr>\n",
       "      <th>std</th>\n",
       "      <td>0.848669</td>\n",
       "      <td>2.225423</td>\n",
       "      <td>16.334624</td>\n",
       "      <td>0.350351</td>\n",
       "    </tr>\n",
       "    <tr>\n",
       "      <th>min</th>\n",
       "      <td>2016.000000</td>\n",
       "      <td>1.000000</td>\n",
       "      <td>16.000000</td>\n",
       "      <td>0.000000</td>\n",
       "    </tr>\n",
       "    <tr>\n",
       "      <th>25%</th>\n",
       "      <td>2016.000000</td>\n",
       "      <td>2.000000</td>\n",
       "      <td>26.000000</td>\n",
       "      <td>0.000000</td>\n",
       "    </tr>\n",
       "    <tr>\n",
       "      <th>50%</th>\n",
       "      <td>2017.000000</td>\n",
       "      <td>3.000000</td>\n",
       "      <td>35.000000</td>\n",
       "      <td>0.000000</td>\n",
       "    </tr>\n",
       "    <tr>\n",
       "      <th>75%</th>\n",
       "      <td>2018.000000</td>\n",
       "      <td>5.000000</td>\n",
       "      <td>48.000000</td>\n",
       "      <td>0.000000</td>\n",
       "    </tr>\n",
       "    <tr>\n",
       "      <th>max</th>\n",
       "      <td>2018.000000</td>\n",
       "      <td>21.000000</td>\n",
       "      <td>100.000000</td>\n",
       "      <td>1.000000</td>\n",
       "    </tr>\n",
       "  </tbody>\n",
       "</table>\n",
       "</div>"
      ],
      "text/plain": [
       "               year  household_size  age_of_respondent  bank_account\n",
       "count  11762.000000    11762.000000       11762.000000  11762.000000\n",
       "mean    2016.983336        3.793913          38.602364      0.143258\n",
       "std        0.848669        2.225423          16.334624      0.350351\n",
       "min     2016.000000        1.000000          16.000000      0.000000\n",
       "25%     2016.000000        2.000000          26.000000      0.000000\n",
       "50%     2017.000000        3.000000          35.000000      0.000000\n",
       "75%     2018.000000        5.000000          48.000000      0.000000\n",
       "max     2018.000000       21.000000         100.000000      1.000000"
      ]
     },
     "execution_count": 46,
     "metadata": {},
     "output_type": "execute_result"
    }
   ],
   "source": [
    "num_attributes.describe()"
   ]
  },
  {
   "cell_type": "code",
   "execution_count": 47,
   "id": "726bd6d8",
   "metadata": {
    "ExecuteTime": {
     "end_time": "2022-05-28T13:27:59.854158Z",
     "start_time": "2022-05-28T13:27:59.708325Z"
    }
   },
   "outputs": [
    {
     "data": {
      "text/html": [
       "<div>\n",
       "<style scoped>\n",
       "    .dataframe tbody tr th:only-of-type {\n",
       "        vertical-align: middle;\n",
       "    }\n",
       "\n",
       "    .dataframe tbody tr th {\n",
       "        vertical-align: top;\n",
       "    }\n",
       "\n",
       "    .dataframe thead th {\n",
       "        text-align: right;\n",
       "    }\n",
       "</style>\n",
       "<table border=\"1\" class=\"dataframe\">\n",
       "  <thead>\n",
       "    <tr style=\"text-align: right;\">\n",
       "      <th></th>\n",
       "      <th>country</th>\n",
       "      <th>uniqueid</th>\n",
       "      <th>location_type</th>\n",
       "      <th>cellphone_access</th>\n",
       "      <th>gender_of_respondent</th>\n",
       "      <th>relationship_with_head</th>\n",
       "      <th>marital_status</th>\n",
       "      <th>education_level</th>\n",
       "      <th>job_type</th>\n",
       "      <th>uid</th>\n",
       "    </tr>\n",
       "  </thead>\n",
       "  <tbody>\n",
       "    <tr>\n",
       "      <th>count</th>\n",
       "      <td>11762</td>\n",
       "      <td>11762</td>\n",
       "      <td>11762</td>\n",
       "      <td>11762</td>\n",
       "      <td>11762</td>\n",
       "      <td>11762</td>\n",
       "      <td>11762</td>\n",
       "      <td>11762</td>\n",
       "      <td>11762</td>\n",
       "      <td>11762</td>\n",
       "    </tr>\n",
       "    <tr>\n",
       "      <th>unique</th>\n",
       "      <td>4</td>\n",
       "      <td>6916</td>\n",
       "      <td>2</td>\n",
       "      <td>2</td>\n",
       "      <td>2</td>\n",
       "      <td>6</td>\n",
       "      <td>5</td>\n",
       "      <td>6</td>\n",
       "      <td>10</td>\n",
       "      <td>11762</td>\n",
       "    </tr>\n",
       "    <tr>\n",
       "      <th>top</th>\n",
       "      <td>Rwanda</td>\n",
       "      <td>uniqueid_403</td>\n",
       "      <td>Rural</td>\n",
       "      <td>Yes</td>\n",
       "      <td>Female</td>\n",
       "      <td>Head of Household</td>\n",
       "      <td>Married/Living together</td>\n",
       "      <td>Primary education</td>\n",
       "      <td>Self employed</td>\n",
       "      <td>Rwanda_uniqueid_4858</td>\n",
       "    </tr>\n",
       "    <tr>\n",
       "      <th>freq</th>\n",
       "      <td>4335</td>\n",
       "      <td>4</td>\n",
       "      <td>7100</td>\n",
       "      <td>8786</td>\n",
       "      <td>6902</td>\n",
       "      <td>6358</td>\n",
       "      <td>5433</td>\n",
       "      <td>6408</td>\n",
       "      <td>3207</td>\n",
       "      <td>1</td>\n",
       "    </tr>\n",
       "  </tbody>\n",
       "</table>\n",
       "</div>"
      ],
      "text/plain": [
       "       country      uniqueid location_type cellphone_access  \\\n",
       "count    11762         11762         11762            11762   \n",
       "unique       4          6916             2                2   \n",
       "top     Rwanda  uniqueid_403         Rural              Yes   \n",
       "freq      4335             4          7100             8786   \n",
       "\n",
       "       gender_of_respondent relationship_with_head           marital_status  \\\n",
       "count                 11762                  11762                    11762   \n",
       "unique                    2                      6                        5   \n",
       "top                  Female      Head of Household  Married/Living together   \n",
       "freq                   6902                   6358                     5433   \n",
       "\n",
       "          education_level       job_type                   uid  \n",
       "count               11762          11762                 11762  \n",
       "unique                  6             10                 11762  \n",
       "top     Primary education  Self employed  Rwanda_uniqueid_4858  \n",
       "freq                 6408           3207                     1  "
      ]
     },
     "execution_count": 47,
     "metadata": {},
     "output_type": "execute_result"
    }
   ],
   "source": [
    "cat_attributes.describe()"
   ]
  },
  {
   "cell_type": "code",
   "execution_count": 48,
   "id": "6b62ad0e",
   "metadata": {
    "ExecuteTime": {
     "end_time": "2022-05-28T13:28:00.407524Z",
     "start_time": "2022-05-28T13:28:00.395908Z"
    }
   },
   "outputs": [
    {
     "data": {
      "text/plain": [
       "0    0.856742\n",
       "1    0.143258\n",
       "Name: bank_account, dtype: float64"
      ]
     },
     "execution_count": 48,
     "metadata": {},
     "output_type": "execute_result"
    }
   ],
   "source": [
    "df1['bank_account'].value_counts(normalize=True)"
   ]
  },
  {
   "cell_type": "code",
   "execution_count": 49,
   "id": "731f16fd",
   "metadata": {
    "ExecuteTime": {
     "end_time": "2022-05-28T13:28:04.626720Z",
     "start_time": "2022-05-28T13:28:04.614852Z"
    }
   },
   "outputs": [
    {
     "data": {
      "text/plain": [
       "Rwanda      0.368560\n",
       "Tanzania    0.279544\n",
       "Kenya       0.259480\n",
       "Uganda      0.092416\n",
       "Name: country, dtype: float64"
      ]
     },
     "execution_count": 49,
     "metadata": {},
     "output_type": "execute_result"
    }
   ],
   "source": [
    "df1['country'].value_counts(normalize=True)"
   ]
  },
  {
   "cell_type": "code",
   "execution_count": 50,
   "id": "1363278e",
   "metadata": {
    "ExecuteTime": {
     "end_time": "2022-05-28T13:28:04.867290Z",
     "start_time": "2022-05-28T13:28:04.742796Z"
    }
   },
   "outputs": [
    {
     "data": {
      "text/plain": [
       "2016    0.368560\n",
       "2018    0.351896\n",
       "2017    0.279544\n",
       "Name: year, dtype: float64"
      ]
     },
     "execution_count": 50,
     "metadata": {},
     "output_type": "execute_result"
    }
   ],
   "source": [
    "df1['year'].value_counts(normalize=True)"
   ]
  },
  {
   "cell_type": "code",
   "execution_count": 51,
   "id": "6b523e1a",
   "metadata": {
    "ExecuteTime": {
     "end_time": "2022-05-28T13:28:05.025864Z",
     "start_time": "2022-05-28T13:28:04.872698Z"
    }
   },
   "outputs": [
    {
     "data": {
      "text/plain": [
       "6916"
      ]
     },
     "execution_count": 51,
     "metadata": {},
     "output_type": "execute_result"
    }
   ],
   "source": [
    "len(df1['uniqueid'].unique())"
   ]
  },
  {
   "cell_type": "code",
   "execution_count": 52,
   "id": "12c78bfa",
   "metadata": {
    "ExecuteTime": {
     "end_time": "2022-05-28T13:28:05.186849Z",
     "start_time": "2022-05-28T13:28:05.031090Z"
    }
   },
   "outputs": [
    {
     "data": {
      "text/plain": [
       "11762"
      ]
     },
     "execution_count": 52,
     "metadata": {},
     "output_type": "execute_result"
    }
   ],
   "source": [
    "len(df1['uid'].unique())"
   ]
  },
  {
   "cell_type": "code",
   "execution_count": 53,
   "id": "aa105c3b",
   "metadata": {
    "ExecuteTime": {
     "end_time": "2022-05-28T13:28:05.339580Z",
     "start_time": "2022-05-28T13:28:05.191454Z"
    }
   },
   "outputs": [
    {
     "data": {
      "text/plain": [
       "array([ 6,  4,  7,  2,  1,  3,  5,  8,  9, 10, 12, 11, 18, 16, 14, 17, 13,\n",
       "       21, 15, 20])"
      ]
     },
     "execution_count": 53,
     "metadata": {},
     "output_type": "execute_result"
    }
   ],
   "source": [
    "df1['household_size'].unique()\n",
    "\n",
    "#conjunto de pessoas que moram no mesmo endereço"
   ]
  },
  {
   "cell_type": "code",
   "execution_count": 54,
   "id": "e2559305",
   "metadata": {
    "ExecuteTime": {
     "end_time": "2022-05-28T13:28:05.520310Z",
     "start_time": "2022-05-28T13:28:05.440234Z"
    }
   },
   "outputs": [
    {
     "data": {
      "text/plain": [
       "array([ 45,  33,  43,  35,  30,  57,  25,  41,  58,  20,  28,  37,  51,\n",
       "        70,  59,  21,  49,  50,  18,  53,  32,  34,  22,  31,  24,  39,\n",
       "        27,  56,  19,  46,  23,  42,  16,  69,  62,  73,  66,  26,  54,\n",
       "        47,  84,  71,  60,  68,  61,  63,  65,  76,  40,  67,  78,  44,\n",
       "        36,  17,  48,  81,  29,  55,  75,  85,  80,  38,  72,  52,  64,\n",
       "        83,  77,  87,  82,  79,  90,  74,  95,  86,  98,  89,  92,  91,\n",
       "       100,  88,  97,  94])"
      ]
     },
     "execution_count": 54,
     "metadata": {},
     "output_type": "execute_result"
    }
   ],
   "source": [
    "df1['age_of_respondent'].unique()"
   ]
  },
  {
   "cell_type": "code",
   "execution_count": 56,
   "id": "d86257de",
   "metadata": {
    "ExecuteTime": {
     "end_time": "2022-05-28T13:28:39.907212Z",
     "start_time": "2022-05-28T13:28:39.671322Z"
    }
   },
   "outputs": [
    {
     "data": {
      "image/png": "[encoded data removed]",
      "text/plain": [
       "<Figure size 432x288 with 2 Axes>"
      ]
     },
     "metadata": {
      "needs_background": "light"
     },
     "output_type": "display_data"
    }
   ],
   "source": [
    "correlation = num_attributes.corr(method='pearson')\n",
    "sns.heatmap(correlation, annot=True);"
   ]
  },
  {
   "cell_type": "code",
   "execution_count": 89,
   "id": "e663d45c",
   "metadata": {
    "ExecuteTime": {
     "end_time": "2022-05-28T13:45:06.073976Z",
     "start_time": "2022-05-28T13:42:25.108199Z"
    }
   },
   "outputs": [
    {
     "name": "stderr",
     "output_type": "stream",
     "text": [
      "/tmp/ipykernel_29307/742806758.py:12: RuntimeWarning: divide by zero encountered in double_scalars\n",
      "  return np.sqrt((chi2corr/n) / min(kcorr-1, rcorr-1))\n"
     ]
    }
   ],
   "source": [
    "# #List os cat attributes for cramer v correlation\n",
    "# cat_attributes_list = cat_attributes.columns.tolist()\n",
    "\n",
    "# #dict to get all corr (rowxcolumn)\n",
    "# corr_dict = {}\n",
    "# for i in range(len(cat_attributes_list)):\n",
    "#     corr_list=[]\n",
    "#     for j in range(len(cat_attributes_list)):\n",
    "#         ref = cat_attributes_list[i]\n",
    "#         feat = cat_attributes_list[j]\n",
    "        \n",
    "#         corr = cramer_v(cat_attributes[ref], cat_attributes[feat])\n",
    "#         corr_list.append(corr)\n",
    "#     corr_dict[ref] = corr_list"
   ]
  },
  {
   "cell_type": "code",
   "execution_count": null,
   "id": "39d031b6",
   "metadata": {},
   "outputs": [],
   "source": [
    "corr_df = pd.DataFrame(corr_dict)\n",
    "corr_df = corr_df.set_index(corr_df.columns)"
   ]
  },
  {
   "cell_type": "code",
   "execution_count": null,
   "id": "1d1eadfa",
   "metadata": {},
   "outputs": [],
   "source": [
    "sns.heatmap(corr_df, annot=True);"
   ]
  },
  {
   "cell_type": "markdown",
   "id": "708b3a34",
   "metadata": {},
   "source": [
    "## Feature Engineering"
   ]
  },
  {
   "cell_type": "code",
   "execution_count": 57,
   "id": "34b28d78",
   "metadata": {
    "ExecuteTime": {
     "end_time": "2022-05-28T13:29:59.947366Z",
     "start_time": "2022-05-28T13:29:59.941452Z"
    }
   },
   "outputs": [],
   "source": [
    "df2 = df1.copy()"
   ]
  },
  {
   "cell_type": "code",
   "execution_count": 60,
   "id": "2b10027b",
   "metadata": {
    "ExecuteTime": {
     "end_time": "2022-05-28T13:30:32.703603Z",
     "start_time": "2022-05-28T13:30:32.684991Z"
    }
   },
   "outputs": [
    {
     "data": {
      "text/html": [
       "<div>\n",
       "<style scoped>\n",
       "    .dataframe tbody tr th:only-of-type {\n",
       "        vertical-align: middle;\n",
       "    }\n",
       "\n",
       "    .dataframe tbody tr th {\n",
       "        vertical-align: top;\n",
       "    }\n",
       "\n",
       "    .dataframe thead th {\n",
       "        text-align: right;\n",
       "    }\n",
       "</style>\n",
       "<table border=\"1\" class=\"dataframe\">\n",
       "  <thead>\n",
       "    <tr style=\"text-align: right;\">\n",
       "      <th></th>\n",
       "      <th>3409</th>\n",
       "    </tr>\n",
       "  </thead>\n",
       "  <tbody>\n",
       "    <tr>\n",
       "      <th>country</th>\n",
       "      <td>Kenya</td>\n",
       "    </tr>\n",
       "    <tr>\n",
       "      <th>year</th>\n",
       "      <td>2018</td>\n",
       "    </tr>\n",
       "    <tr>\n",
       "      <th>uniqueid</th>\n",
       "      <td>uniqueid_4051</td>\n",
       "    </tr>\n",
       "    <tr>\n",
       "      <th>location_type</th>\n",
       "      <td>Rural</td>\n",
       "    </tr>\n",
       "    <tr>\n",
       "      <th>cellphone_access</th>\n",
       "      <td>Yes</td>\n",
       "    </tr>\n",
       "    <tr>\n",
       "      <th>household_size</th>\n",
       "      <td>2</td>\n",
       "    </tr>\n",
       "    <tr>\n",
       "      <th>age_of_respondent</th>\n",
       "      <td>74</td>\n",
       "    </tr>\n",
       "    <tr>\n",
       "      <th>gender_of_respondent</th>\n",
       "      <td>Male</td>\n",
       "    </tr>\n",
       "    <tr>\n",
       "      <th>relationship_with_head</th>\n",
       "      <td>Head of Household</td>\n",
       "    </tr>\n",
       "    <tr>\n",
       "      <th>marital_status</th>\n",
       "      <td>Married/Living together</td>\n",
       "    </tr>\n",
       "    <tr>\n",
       "      <th>education_level</th>\n",
       "      <td>Primary education</td>\n",
       "    </tr>\n",
       "    <tr>\n",
       "      <th>job_type</th>\n",
       "      <td>Farming and Fishing</td>\n",
       "    </tr>\n",
       "    <tr>\n",
       "      <th>uid</th>\n",
       "      <td>Kenya_uniqueid_4051</td>\n",
       "    </tr>\n",
       "    <tr>\n",
       "      <th>bank_account</th>\n",
       "      <td>1</td>\n",
       "    </tr>\n",
       "  </tbody>\n",
       "</table>\n",
       "</div>"
      ],
      "text/plain": [
       "                                           3409\n",
       "country                                   Kenya\n",
       "year                                       2018\n",
       "uniqueid                          uniqueid_4051\n",
       "location_type                             Rural\n",
       "cellphone_access                            Yes\n",
       "household_size                                2\n",
       "age_of_respondent                            74\n",
       "gender_of_respondent                       Male\n",
       "relationship_with_head        Head of Household\n",
       "marital_status          Married/Living together\n",
       "education_level               Primary education\n",
       "job_type                    Farming and Fishing\n",
       "uid                         Kenya_uniqueid_4051\n",
       "bank_account                                  1"
      ]
     },
     "execution_count": 60,
     "metadata": {},
     "output_type": "execute_result"
    }
   ],
   "source": [
    "df2.sample().T"
   ]
  },
  {
   "cell_type": "code",
   "execution_count": 126,
   "id": "67dbcbf3",
   "metadata": {
    "ExecuteTime": {
     "end_time": "2022-05-28T14:03:06.508926Z",
     "start_time": "2022-05-28T14:03:05.965739Z"
    }
   },
   "outputs": [],
   "source": [
    "df2['rural_cellphone_access'] = df2.apply(lambda x: 1 if (x['location_type']=='Rural') & (x['cellphone_access']=='Yes') else 0, axis=1)\n",
    "df2['urban_cellphone_access'] = df2.apply(lambda x: 1 if (x['location_type']=='Urban') & (x['cellphone_access']=='Yes') else 0, axis=1)"
   ]
  },
  {
   "cell_type": "code",
   "execution_count": 127,
   "id": "631363d7",
   "metadata": {
    "ExecuteTime": {
     "end_time": "2022-05-28T14:03:06.517128Z",
     "start_time": "2022-05-28T14:03:06.510609Z"
    }
   },
   "outputs": [
    {
     "data": {
      "text/plain": [
       "array(['Head of Household', 'Spouse', 'Child', 'Parent', 'Other relative',\n",
       "       'Other non-relatives'], dtype=object)"
      ]
     },
     "execution_count": 127,
     "metadata": {},
     "output_type": "execute_result"
    }
   ],
   "source": [
    "df2['relationship_with_head'].unique()"
   ]
  },
  {
   "cell_type": "code",
   "execution_count": 128,
   "id": "cf52916f",
   "metadata": {
    "ExecuteTime": {
     "end_time": "2022-05-28T14:03:06.829232Z",
     "start_time": "2022-05-28T14:03:06.519406Z"
    }
   },
   "outputs": [
    {
     "data": {
      "text/html": [
       "<div>\n",
       "<style scoped>\n",
       "    .dataframe tbody tr th:only-of-type {\n",
       "        vertical-align: middle;\n",
       "    }\n",
       "\n",
       "    .dataframe tbody tr th {\n",
       "        vertical-align: top;\n",
       "    }\n",
       "\n",
       "    .dataframe thead th {\n",
       "        text-align: right;\n",
       "    }\n",
       "</style>\n",
       "<table border=\"1\" class=\"dataframe\">\n",
       "  <thead>\n",
       "    <tr style=\"text-align: right;\">\n",
       "      <th></th>\n",
       "      <th>uniqueid</th>\n",
       "      <th>uid</th>\n",
       "    </tr>\n",
       "  </thead>\n",
       "  <tbody>\n",
       "    <tr>\n",
       "      <th>2528</th>\n",
       "      <td>uniqueid_353</td>\n",
       "      <td>4</td>\n",
       "    </tr>\n",
       "    <tr>\n",
       "      <th>6272</th>\n",
       "      <td>uniqueid_790</td>\n",
       "      <td>4</td>\n",
       "    </tr>\n",
       "    <tr>\n",
       "      <th>6232</th>\n",
       "      <td>uniqueid_784</td>\n",
       "      <td>4</td>\n",
       "    </tr>\n",
       "    <tr>\n",
       "      <th>4656</th>\n",
       "      <td>uniqueid_570</td>\n",
       "      <td>4</td>\n",
       "    </tr>\n",
       "    <tr>\n",
       "      <th>4655</th>\n",
       "      <td>uniqueid_57</td>\n",
       "      <td>4</td>\n",
       "    </tr>\n",
       "  </tbody>\n",
       "</table>\n",
       "</div>"
      ],
      "text/plain": [
       "          uniqueid  uid\n",
       "2528  uniqueid_353    4\n",
       "6272  uniqueid_790    4\n",
       "6232  uniqueid_784    4\n",
       "4656  uniqueid_570    4\n",
       "4655   uniqueid_57    4"
      ]
     },
     "execution_count": 128,
     "metadata": {},
     "output_type": "execute_result"
    }
   ],
   "source": [
    "df2[['uniqueid', 'uid']].groupby('uniqueid').count().reset_index().sort_values('uid', ascending=False).head()"
   ]
  },
  {
   "cell_type": "markdown",
   "id": "8ba79460",
   "metadata": {},
   "source": [
    "Cada uniqueid pode ter até 4 pessoas (uid) diferentes de países diferentes cadastradas."
   ]
  },
  {
   "cell_type": "markdown",
   "id": "22f93d8c",
   "metadata": {
    "ExecuteTime": {
     "end_time": "2022-05-28T14:07:50.816086Z",
     "start_time": "2022-05-28T14:07:50.791779Z"
    }
   },
   "source": [
    "### Split train e validation"
   ]
  },
  {
   "cell_type": "code",
   "execution_count": 182,
   "id": "79c38d17",
   "metadata": {
    "ExecuteTime": {
     "end_time": "2022-05-28T14:58:10.704095Z",
     "start_time": "2022-05-28T14:58:10.690394Z"
    }
   },
   "outputs": [],
   "source": [
    "X = df2.drop(['uid', 'uniqueid', 'bank_account'], axis=1)\n",
    "y = df2['bank_account'].copy()\n",
    "\n",
    "X_train, X_val, y_train, y_val = ms.train_test_split(X, y, test_size=0.2)"
   ]
  },
  {
   "cell_type": "markdown",
   "id": "8b578810",
   "metadata": {},
   "source": [
    "# Data preparation"
   ]
  },
  {
   "cell_type": "code",
   "execution_count": 183,
   "id": "d89b1cd9",
   "metadata": {
    "ExecuteTime": {
     "end_time": "2022-05-28T14:58:12.653260Z",
     "start_time": "2022-05-28T14:58:12.488050Z"
    }
   },
   "outputs": [
    {
     "data": {
      "text/html": [
       "<div>\n",
       "<style scoped>\n",
       "    .dataframe tbody tr th:only-of-type {\n",
       "        vertical-align: middle;\n",
       "    }\n",
       "\n",
       "    .dataframe tbody tr th {\n",
       "        vertical-align: top;\n",
       "    }\n",
       "\n",
       "    .dataframe thead th {\n",
       "        text-align: right;\n",
       "    }\n",
       "</style>\n",
       "<table border=\"1\" class=\"dataframe\">\n",
       "  <thead>\n",
       "    <tr style=\"text-align: right;\">\n",
       "      <th></th>\n",
       "      <th>country</th>\n",
       "      <th>year</th>\n",
       "      <th>location_type</th>\n",
       "      <th>cellphone_access</th>\n",
       "      <th>household_size</th>\n",
       "      <th>age_of_respondent</th>\n",
       "      <th>gender_of_respondent</th>\n",
       "      <th>relationship_with_head</th>\n",
       "      <th>marital_status</th>\n",
       "      <th>education_level</th>\n",
       "      <th>job_type</th>\n",
       "      <th>rural_cellphone_access</th>\n",
       "      <th>urban_cellphone_access</th>\n",
       "      <th>bank_account</th>\n",
       "    </tr>\n",
       "  </thead>\n",
       "  <tbody>\n",
       "    <tr>\n",
       "      <th>5505</th>\n",
       "      <td>Kenya</td>\n",
       "      <td>2018</td>\n",
       "      <td>Rural</td>\n",
       "      <td>Yes</td>\n",
       "      <td>4</td>\n",
       "      <td>20</td>\n",
       "      <td>Female</td>\n",
       "      <td>Spouse</td>\n",
       "      <td>Married/Living together</td>\n",
       "      <td>No formal education</td>\n",
       "      <td>Farming and Fishing</td>\n",
       "      <td>1</td>\n",
       "      <td>0</td>\n",
       "      <td>0</td>\n",
       "    </tr>\n",
       "    <tr>\n",
       "      <th>7378</th>\n",
       "      <td>Kenya</td>\n",
       "      <td>2018</td>\n",
       "      <td>Rural</td>\n",
       "      <td>Yes</td>\n",
       "      <td>6</td>\n",
       "      <td>29</td>\n",
       "      <td>Male</td>\n",
       "      <td>Head of Household</td>\n",
       "      <td>Married/Living together</td>\n",
       "      <td>Primary education</td>\n",
       "      <td>Farming and Fishing</td>\n",
       "      <td>1</td>\n",
       "      <td>0</td>\n",
       "      <td>0</td>\n",
       "    </tr>\n",
       "    <tr>\n",
       "      <th>7644</th>\n",
       "      <td>Rwanda</td>\n",
       "      <td>2016</td>\n",
       "      <td>Rural</td>\n",
       "      <td>Yes</td>\n",
       "      <td>6</td>\n",
       "      <td>45</td>\n",
       "      <td>Male</td>\n",
       "      <td>Head of Household</td>\n",
       "      <td>Married/Living together</td>\n",
       "      <td>Primary education</td>\n",
       "      <td>Informally employed</td>\n",
       "      <td>1</td>\n",
       "      <td>0</td>\n",
       "      <td>0</td>\n",
       "    </tr>\n",
       "    <tr>\n",
       "      <th>8393</th>\n",
       "      <td>Tanzania</td>\n",
       "      <td>2017</td>\n",
       "      <td>Urban</td>\n",
       "      <td>No</td>\n",
       "      <td>3</td>\n",
       "      <td>75</td>\n",
       "      <td>Male</td>\n",
       "      <td>Head of Household</td>\n",
       "      <td>Single/Never Married</td>\n",
       "      <td>No formal education</td>\n",
       "      <td>Remittance Dependent</td>\n",
       "      <td>0</td>\n",
       "      <td>0</td>\n",
       "      <td>0</td>\n",
       "    </tr>\n",
       "    <tr>\n",
       "      <th>10347</th>\n",
       "      <td>Kenya</td>\n",
       "      <td>2018</td>\n",
       "      <td>Rural</td>\n",
       "      <td>Yes</td>\n",
       "      <td>3</td>\n",
       "      <td>62</td>\n",
       "      <td>Female</td>\n",
       "      <td>Head of Household</td>\n",
       "      <td>Single/Never Married</td>\n",
       "      <td>Secondary education</td>\n",
       "      <td>Farming and Fishing</td>\n",
       "      <td>1</td>\n",
       "      <td>0</td>\n",
       "      <td>0</td>\n",
       "    </tr>\n",
       "    <tr>\n",
       "      <th>...</th>\n",
       "      <td>...</td>\n",
       "      <td>...</td>\n",
       "      <td>...</td>\n",
       "      <td>...</td>\n",
       "      <td>...</td>\n",
       "      <td>...</td>\n",
       "      <td>...</td>\n",
       "      <td>...</td>\n",
       "      <td>...</td>\n",
       "      <td>...</td>\n",
       "      <td>...</td>\n",
       "      <td>...</td>\n",
       "      <td>...</td>\n",
       "      <td>...</td>\n",
       "    </tr>\n",
       "    <tr>\n",
       "      <th>3307</th>\n",
       "      <td>Tanzania</td>\n",
       "      <td>2017</td>\n",
       "      <td>Rural</td>\n",
       "      <td>Yes</td>\n",
       "      <td>2</td>\n",
       "      <td>35</td>\n",
       "      <td>Male</td>\n",
       "      <td>Head of Household</td>\n",
       "      <td>Single/Never Married</td>\n",
       "      <td>Tertiary education</td>\n",
       "      <td>Self employed</td>\n",
       "      <td>1</td>\n",
       "      <td>0</td>\n",
       "      <td>0</td>\n",
       "    </tr>\n",
       "    <tr>\n",
       "      <th>10870</th>\n",
       "      <td>Uganda</td>\n",
       "      <td>2018</td>\n",
       "      <td>Rural</td>\n",
       "      <td>Yes</td>\n",
       "      <td>9</td>\n",
       "      <td>56</td>\n",
       "      <td>Male</td>\n",
       "      <td>Head of Household</td>\n",
       "      <td>Married/Living together</td>\n",
       "      <td>Primary education</td>\n",
       "      <td>Self employed</td>\n",
       "      <td>1</td>\n",
       "      <td>0</td>\n",
       "      <td>0</td>\n",
       "    </tr>\n",
       "    <tr>\n",
       "      <th>5584</th>\n",
       "      <td>Kenya</td>\n",
       "      <td>2018</td>\n",
       "      <td>Rural</td>\n",
       "      <td>Yes</td>\n",
       "      <td>5</td>\n",
       "      <td>36</td>\n",
       "      <td>Female</td>\n",
       "      <td>Spouse</td>\n",
       "      <td>Married/Living together</td>\n",
       "      <td>Primary education</td>\n",
       "      <td>Farming and Fishing</td>\n",
       "      <td>1</td>\n",
       "      <td>0</td>\n",
       "      <td>1</td>\n",
       "    </tr>\n",
       "    <tr>\n",
       "      <th>176</th>\n",
       "      <td>Tanzania</td>\n",
       "      <td>2017</td>\n",
       "      <td>Urban</td>\n",
       "      <td>No</td>\n",
       "      <td>4</td>\n",
       "      <td>85</td>\n",
       "      <td>Male</td>\n",
       "      <td>Head of Household</td>\n",
       "      <td>Single/Never Married</td>\n",
       "      <td>No formal education</td>\n",
       "      <td>Self employed</td>\n",
       "      <td>0</td>\n",
       "      <td>0</td>\n",
       "      <td>0</td>\n",
       "    </tr>\n",
       "    <tr>\n",
       "      <th>3157</th>\n",
       "      <td>Kenya</td>\n",
       "      <td>2018</td>\n",
       "      <td>Rural</td>\n",
       "      <td>No</td>\n",
       "      <td>7</td>\n",
       "      <td>16</td>\n",
       "      <td>Male</td>\n",
       "      <td>Child</td>\n",
       "      <td>Single/Never Married</td>\n",
       "      <td>Primary education</td>\n",
       "      <td>Remittance Dependent</td>\n",
       "      <td>0</td>\n",
       "      <td>0</td>\n",
       "      <td>0</td>\n",
       "    </tr>\n",
       "  </tbody>\n",
       "</table>\n",
       "<p>9409 rows × 14 columns</p>\n",
       "</div>"
      ],
      "text/plain": [
       "        country  year location_type cellphone_access  household_size  \\\n",
       "5505      Kenya  2018         Rural              Yes               4   \n",
       "7378      Kenya  2018         Rural              Yes               6   \n",
       "7644     Rwanda  2016         Rural              Yes               6   \n",
       "8393   Tanzania  2017         Urban               No               3   \n",
       "10347     Kenya  2018         Rural              Yes               3   \n",
       "...         ...   ...           ...              ...             ...   \n",
       "3307   Tanzania  2017         Rural              Yes               2   \n",
       "10870    Uganda  2018         Rural              Yes               9   \n",
       "5584      Kenya  2018         Rural              Yes               5   \n",
       "176    Tanzania  2017         Urban               No               4   \n",
       "3157      Kenya  2018         Rural               No               7   \n",
       "\n",
       "       age_of_respondent gender_of_respondent relationship_with_head  \\\n",
       "5505                  20               Female                 Spouse   \n",
       "7378                  29                 Male      Head of Household   \n",
       "7644                  45                 Male      Head of Household   \n",
       "8393                  75                 Male      Head of Household   \n",
       "10347                 62               Female      Head of Household   \n",
       "...                  ...                  ...                    ...   \n",
       "3307                  35                 Male      Head of Household   \n",
       "10870                 56                 Male      Head of Household   \n",
       "5584                  36               Female                 Spouse   \n",
       "176                   85                 Male      Head of Household   \n",
       "3157                  16                 Male                  Child   \n",
       "\n",
       "                marital_status      education_level              job_type  \\\n",
       "5505   Married/Living together  No formal education   Farming and Fishing   \n",
       "7378   Married/Living together    Primary education   Farming and Fishing   \n",
       "7644   Married/Living together    Primary education   Informally employed   \n",
       "8393      Single/Never Married  No formal education  Remittance Dependent   \n",
       "10347     Single/Never Married  Secondary education   Farming and Fishing   \n",
       "...                        ...                  ...                   ...   \n",
       "3307      Single/Never Married   Tertiary education         Self employed   \n",
       "10870  Married/Living together    Primary education         Self employed   \n",
       "5584   Married/Living together    Primary education   Farming and Fishing   \n",
       "176       Single/Never Married  No formal education         Self employed   \n",
       "3157      Single/Never Married    Primary education  Remittance Dependent   \n",
       "\n",
       "       rural_cellphone_access  urban_cellphone_access  bank_account  \n",
       "5505                        1                       0             0  \n",
       "7378                        1                       0             0  \n",
       "7644                        1                       0             0  \n",
       "8393                        0                       0             0  \n",
       "10347                       1                       0             0  \n",
       "...                       ...                     ...           ...  \n",
       "3307                        1                       0             0  \n",
       "10870                       1                       0             0  \n",
       "5584                        1                       0             1  \n",
       "176                         0                       0             0  \n",
       "3157                        0                       0             0  \n",
       "\n",
       "[9409 rows x 14 columns]"
      ]
     },
     "execution_count": 183,
     "metadata": {},
     "output_type": "execute_result"
    }
   ],
   "source": [
    "df3 = pd.concat([X_train, y_train], axis=1)\n",
    "df3"
   ]
  },
  {
   "cell_type": "code",
   "execution_count": 184,
   "id": "a74ac550",
   "metadata": {
    "ExecuteTime": {
     "end_time": "2022-05-28T14:58:17.596074Z",
     "start_time": "2022-05-28T14:58:17.590017Z"
    }
   },
   "outputs": [],
   "source": [
    "mms = pp.MinMaxScaler()"
   ]
  },
  {
   "cell_type": "markdown",
   "id": "c51e52dd",
   "metadata": {},
   "source": [
    "### Rescala"
   ]
  },
  {
   "cell_type": "code",
   "execution_count": 185,
   "id": "3f5565c9",
   "metadata": {
    "ExecuteTime": {
     "end_time": "2022-05-28T14:58:18.412490Z",
     "start_time": "2022-05-28T14:58:18.382804Z"
    }
   },
   "outputs": [],
   "source": [
    "df3['year'] = mms.fit_transform(df3[['year']])\n",
    "df3['household_size'] = mms.fit_transform(df3[['household_size']])\n",
    "df3['age_of_respondent'] = mms.fit_transform(df3[['age_of_respondent']])\n"
   ]
  },
  {
   "cell_type": "markdown",
   "id": "aee1b4ef",
   "metadata": {
    "ExecuteTime": {
     "end_time": "2022-05-28T14:02:22.308820Z",
     "start_time": "2022-05-28T14:02:22.282797Z"
    }
   },
   "source": [
    "### Encoding "
   ]
  },
  {
   "cell_type": "code",
   "execution_count": 186,
   "id": "0f4c12f7",
   "metadata": {
    "ExecuteTime": {
     "end_time": "2022-05-28T14:58:19.905224Z",
     "start_time": "2022-05-28T14:58:19.866913Z"
    }
   },
   "outputs": [],
   "source": [
    "df3 = pd.get_dummies(df3, prefix='gender', columns=['gender_of_respondent'])\n",
    "\n",
    "df3 = pd.get_dummies(df3, prefix='location_type', columns=['location_type'])"
   ]
  },
  {
   "cell_type": "code",
   "execution_count": 189,
   "id": "c4234109",
   "metadata": {
    "ExecuteTime": {
     "end_time": "2022-05-28T14:58:36.246006Z",
     "start_time": "2022-05-28T14:58:36.207582Z"
    }
   },
   "outputs": [],
   "source": [
    "#frequency, target, onehot, label\n",
    "\n",
    "\n",
    "#location type (OHE) \n",
    "\n",
    "# df3 = pd.get_dummies(df3, prefix='location_type', columns=['location_type'])\n",
    "\n",
    "#cellphone access (1,0)\n",
    "\n",
    "df3['cellphone_access'] = df3['cellphone_access'].apply(lambda x: 1 if x=='Yes' else 0)\n",
    "\n",
    "#gender (OHE)\n",
    "\n",
    "# df3 = pd.get_dummies(df3, prefix='gender', columns=['gender_of_respondent'])\n",
    "\n",
    "\n",
    "#country  -- \n",
    "\n",
    "target_encode_country = df3.groupby('country')['bank_account'].mean()\n",
    "df3.loc[:,'country'] = df3['country'].map(target_encode_country)\n",
    "\n",
    "\n",
    "#relationship_with_head\n",
    "\n",
    "target_encode_relationship_with_head = df3.groupby('relationship_with_head')['bank_account'].mean()\n",
    "df3.loc[:,'relationship_with_head'] = df3['relationship_with_head'].map(target_encode_relationship_with_head)\n",
    "\n",
    "\n",
    "#marital_status\n",
    "\n",
    "target_encode_marital_status = df3.groupby('marital_status')['bank_account'].mean()\n",
    "df3.loc[:,'marital_status'] = df3['marital_status'].map(target_encode_marital_status)\n",
    "\n",
    "\n",
    "#education_level\n",
    "\n",
    "target_encode_education_level = df3.groupby('education_level')['bank_account'].mean()\n",
    "df3.loc[:,'education_level'] = df3['education_level'].map(target_encode_education_level)\n",
    "\n",
    "#job_type\n",
    "\n",
    "target_encode_job_type = df3.groupby('job_type')['bank_account'].mean()\n",
    "df3.loc[:,'job_type'] = df3['job_type'].map(target_encode_job_type)"
   ]
  },
  {
   "cell_type": "code",
   "execution_count": 190,
   "id": "0e6645c1",
   "metadata": {
    "ExecuteTime": {
     "end_time": "2022-05-28T14:58:37.918106Z",
     "start_time": "2022-05-28T14:58:37.882546Z"
    }
   },
   "outputs": [
    {
     "data": {
      "text/html": [
       "<div>\n",
       "<style scoped>\n",
       "    .dataframe tbody tr th:only-of-type {\n",
       "        vertical-align: middle;\n",
       "    }\n",
       "\n",
       "    .dataframe tbody tr th {\n",
       "        vertical-align: top;\n",
       "    }\n",
       "\n",
       "    .dataframe thead th {\n",
       "        text-align: right;\n",
       "    }\n",
       "</style>\n",
       "<table border=\"1\" class=\"dataframe\">\n",
       "  <thead>\n",
       "    <tr style=\"text-align: right;\">\n",
       "      <th></th>\n",
       "      <th>country</th>\n",
       "      <th>year</th>\n",
       "      <th>cellphone_access</th>\n",
       "      <th>household_size</th>\n",
       "      <th>age_of_respondent</th>\n",
       "      <th>relationship_with_head</th>\n",
       "      <th>marital_status</th>\n",
       "      <th>education_level</th>\n",
       "      <th>job_type</th>\n",
       "      <th>rural_cellphone_access</th>\n",
       "      <th>urban_cellphone_access</th>\n",
       "      <th>bank_account</th>\n",
       "      <th>gender_Female</th>\n",
       "      <th>gender_Male</th>\n",
       "      <th>location_type_Rural</th>\n",
       "      <th>location_type_Urban</th>\n",
       "    </tr>\n",
       "  </thead>\n",
       "  <tbody>\n",
       "    <tr>\n",
       "      <th>5505</th>\n",
       "      <td>0.262058</td>\n",
       "      <td>1.0</td>\n",
       "      <td>1</td>\n",
       "      <td>0.15</td>\n",
       "      <td>0.047619</td>\n",
       "      <td>0.112206</td>\n",
       "      <td>0.176999</td>\n",
       "      <td>0.040782</td>\n",
       "      <td>0.123902</td>\n",
       "      <td>1</td>\n",
       "      <td>0</td>\n",
       "      <td>0</td>\n",
       "      <td>1</td>\n",
       "      <td>0</td>\n",
       "      <td>1</td>\n",
       "      <td>0</td>\n",
       "    </tr>\n",
       "    <tr>\n",
       "      <th>7378</th>\n",
       "      <td>0.262058</td>\n",
       "      <td>1.0</td>\n",
       "      <td>1</td>\n",
       "      <td>0.25</td>\n",
       "      <td>0.154762</td>\n",
       "      <td>0.179684</td>\n",
       "      <td>0.176999</td>\n",
       "      <td>0.087312</td>\n",
       "      <td>0.123902</td>\n",
       "      <td>1</td>\n",
       "      <td>0</td>\n",
       "      <td>0</td>\n",
       "      <td>0</td>\n",
       "      <td>1</td>\n",
       "      <td>1</td>\n",
       "      <td>0</td>\n",
       "    </tr>\n",
       "    <tr>\n",
       "      <th>7644</th>\n",
       "      <td>0.116340</td>\n",
       "      <td>0.0</td>\n",
       "      <td>1</td>\n",
       "      <td>0.25</td>\n",
       "      <td>0.345238</td>\n",
       "      <td>0.179684</td>\n",
       "      <td>0.176999</td>\n",
       "      <td>0.087312</td>\n",
       "      <td>0.073909</td>\n",
       "      <td>1</td>\n",
       "      <td>0</td>\n",
       "      <td>0</td>\n",
       "      <td>0</td>\n",
       "      <td>1</td>\n",
       "      <td>1</td>\n",
       "      <td>0</td>\n",
       "    </tr>\n",
       "    <tr>\n",
       "      <th>8393</th>\n",
       "      <td>0.083650</td>\n",
       "      <td>0.5</td>\n",
       "      <td>0</td>\n",
       "      <td>0.10</td>\n",
       "      <td>0.702381</td>\n",
       "      <td>0.179684</td>\n",
       "      <td>0.113579</td>\n",
       "      <td>0.040782</td>\n",
       "      <td>0.090000</td>\n",
       "      <td>0</td>\n",
       "      <td>0</td>\n",
       "      <td>0</td>\n",
       "      <td>0</td>\n",
       "      <td>1</td>\n",
       "      <td>0</td>\n",
       "      <td>1</td>\n",
       "    </tr>\n",
       "    <tr>\n",
       "      <th>10347</th>\n",
       "      <td>0.262058</td>\n",
       "      <td>1.0</td>\n",
       "      <td>1</td>\n",
       "      <td>0.10</td>\n",
       "      <td>0.547619</td>\n",
       "      <td>0.179684</td>\n",
       "      <td>0.113579</td>\n",
       "      <td>0.244207</td>\n",
       "      <td>0.123902</td>\n",
       "      <td>1</td>\n",
       "      <td>0</td>\n",
       "      <td>0</td>\n",
       "      <td>1</td>\n",
       "      <td>0</td>\n",
       "      <td>1</td>\n",
       "      <td>0</td>\n",
       "    </tr>\n",
       "    <tr>\n",
       "      <th>...</th>\n",
       "      <td>...</td>\n",
       "      <td>...</td>\n",
       "      <td>...</td>\n",
       "      <td>...</td>\n",
       "      <td>...</td>\n",
       "      <td>...</td>\n",
       "      <td>...</td>\n",
       "      <td>...</td>\n",
       "      <td>...</td>\n",
       "      <td>...</td>\n",
       "      <td>...</td>\n",
       "      <td>...</td>\n",
       "      <td>...</td>\n",
       "      <td>...</td>\n",
       "      <td>...</td>\n",
       "      <td>...</td>\n",
       "    </tr>\n",
       "    <tr>\n",
       "      <th>3307</th>\n",
       "      <td>0.083650</td>\n",
       "      <td>0.5</td>\n",
       "      <td>1</td>\n",
       "      <td>0.05</td>\n",
       "      <td>0.226190</td>\n",
       "      <td>0.179684</td>\n",
       "      <td>0.113579</td>\n",
       "      <td>0.476496</td>\n",
       "      <td>0.134009</td>\n",
       "      <td>1</td>\n",
       "      <td>0</td>\n",
       "      <td>0</td>\n",
       "      <td>0</td>\n",
       "      <td>1</td>\n",
       "      <td>1</td>\n",
       "      <td>0</td>\n",
       "    </tr>\n",
       "    <tr>\n",
       "      <th>10870</th>\n",
       "      <td>0.077011</td>\n",
       "      <td>1.0</td>\n",
       "      <td>1</td>\n",
       "      <td>0.40</td>\n",
       "      <td>0.476190</td>\n",
       "      <td>0.179684</td>\n",
       "      <td>0.176999</td>\n",
       "      <td>0.087312</td>\n",
       "      <td>0.134009</td>\n",
       "      <td>1</td>\n",
       "      <td>0</td>\n",
       "      <td>0</td>\n",
       "      <td>0</td>\n",
       "      <td>1</td>\n",
       "      <td>1</td>\n",
       "      <td>0</td>\n",
       "    </tr>\n",
       "    <tr>\n",
       "      <th>5584</th>\n",
       "      <td>0.262058</td>\n",
       "      <td>1.0</td>\n",
       "      <td>1</td>\n",
       "      <td>0.20</td>\n",
       "      <td>0.238095</td>\n",
       "      <td>0.112206</td>\n",
       "      <td>0.176999</td>\n",
       "      <td>0.087312</td>\n",
       "      <td>0.123902</td>\n",
       "      <td>1</td>\n",
       "      <td>0</td>\n",
       "      <td>1</td>\n",
       "      <td>1</td>\n",
       "      <td>0</td>\n",
       "      <td>1</td>\n",
       "      <td>0</td>\n",
       "    </tr>\n",
       "    <tr>\n",
       "      <th>176</th>\n",
       "      <td>0.083650</td>\n",
       "      <td>0.5</td>\n",
       "      <td>0</td>\n",
       "      <td>0.15</td>\n",
       "      <td>0.821429</td>\n",
       "      <td>0.179684</td>\n",
       "      <td>0.113579</td>\n",
       "      <td>0.040782</td>\n",
       "      <td>0.134009</td>\n",
       "      <td>0</td>\n",
       "      <td>0</td>\n",
       "      <td>0</td>\n",
       "      <td>0</td>\n",
       "      <td>1</td>\n",
       "      <td>0</td>\n",
       "      <td>1</td>\n",
       "    </tr>\n",
       "    <tr>\n",
       "      <th>3157</th>\n",
       "      <td>0.262058</td>\n",
       "      <td>1.0</td>\n",
       "      <td>0</td>\n",
       "      <td>0.30</td>\n",
       "      <td>0.000000</td>\n",
       "      <td>0.074830</td>\n",
       "      <td>0.113579</td>\n",
       "      <td>0.087312</td>\n",
       "      <td>0.090000</td>\n",
       "      <td>0</td>\n",
       "      <td>0</td>\n",
       "      <td>0</td>\n",
       "      <td>0</td>\n",
       "      <td>1</td>\n",
       "      <td>1</td>\n",
       "      <td>0</td>\n",
       "    </tr>\n",
       "  </tbody>\n",
       "</table>\n",
       "<p>9409 rows × 16 columns</p>\n",
       "</div>"
      ],
      "text/plain": [
       "        country  year  cellphone_access  household_size  age_of_respondent  \\\n",
       "5505   0.262058   1.0                 1            0.15           0.047619   \n",
       "7378   0.262058   1.0                 1            0.25           0.154762   \n",
       "7644   0.116340   0.0                 1            0.25           0.345238   \n",
       "8393   0.083650   0.5                 0            0.10           0.702381   \n",
       "10347  0.262058   1.0                 1            0.10           0.547619   \n",
       "...         ...   ...               ...             ...                ...   \n",
       "3307   0.083650   0.5                 1            0.05           0.226190   \n",
       "10870  0.077011   1.0                 1            0.40           0.476190   \n",
       "5584   0.262058   1.0                 1            0.20           0.238095   \n",
       "176    0.083650   0.5                 0            0.15           0.821429   \n",
       "3157   0.262058   1.0                 0            0.30           0.000000   \n",
       "\n",
       "       relationship_with_head  marital_status  education_level  job_type  \\\n",
       "5505                 0.112206        0.176999         0.040782  0.123902   \n",
       "7378                 0.179684        0.176999         0.087312  0.123902   \n",
       "7644                 0.179684        0.176999         0.087312  0.073909   \n",
       "8393                 0.179684        0.113579         0.040782  0.090000   \n",
       "10347                0.179684        0.113579         0.244207  0.123902   \n",
       "...                       ...             ...              ...       ...   \n",
       "3307                 0.179684        0.113579         0.476496  0.134009   \n",
       "10870                0.179684        0.176999         0.087312  0.134009   \n",
       "5584                 0.112206        0.176999         0.087312  0.123902   \n",
       "176                  0.179684        0.113579         0.040782  0.134009   \n",
       "3157                 0.074830        0.113579         0.087312  0.090000   \n",
       "\n",
       "       rural_cellphone_access  urban_cellphone_access  bank_account  \\\n",
       "5505                        1                       0             0   \n",
       "7378                        1                       0             0   \n",
       "7644                        1                       0             0   \n",
       "8393                        0                       0             0   \n",
       "10347                       1                       0             0   \n",
       "...                       ...                     ...           ...   \n",
       "3307                        1                       0             0   \n",
       "10870                       1                       0             0   \n",
       "5584                        1                       0             1   \n",
       "176                         0                       0             0   \n",
       "3157                        0                       0             0   \n",
       "\n",
       "       gender_Female  gender_Male  location_type_Rural  location_type_Urban  \n",
       "5505               1            0                    1                    0  \n",
       "7378               0            1                    1                    0  \n",
       "7644               0            1                    1                    0  \n",
       "8393               0            1                    0                    1  \n",
       "10347              1            0                    1                    0  \n",
       "...              ...          ...                  ...                  ...  \n",
       "3307               0            1                    1                    0  \n",
       "10870              0            1                    1                    0  \n",
       "5584               1            0                    1                    0  \n",
       "176                0            1                    0                    1  \n",
       "3157               0            1                    1                    0  \n",
       "\n",
       "[9409 rows x 16 columns]"
      ]
     },
     "execution_count": 190,
     "metadata": {},
     "output_type": "execute_result"
    }
   ],
   "source": []
  },
  {
   "cell_type": "code",
   "execution_count": 192,
   "id": "b7975faa",
   "metadata": {
    "ExecuteTime": {
     "end_time": "2022-05-28T15:00:15.459069Z",
     "start_time": "2022-05-28T15:00:15.441866Z"
    }
   },
   "outputs": [],
   "source": [
    "X = df3.drop(['bank_account'], axis=1)\n",
    "y = df3['bank_account'].copy()\n",
    "\n",
    "X_train, X_val, y_train, y_val = ms.train_test_split(X, y, test_size=0.2)"
   ]
  },
  {
   "cell_type": "markdown",
   "id": "859b055f",
   "metadata": {},
   "source": [
    "# Modelo de ML"
   ]
  },
  {
   "cell_type": "markdown",
   "id": "e5ff0104",
   "metadata": {
    "ExecuteTime": {
     "end_time": "2022-05-28T15:00:48.284346Z",
     "start_time": "2022-05-28T15:00:45.079875Z"
    }
   },
   "source": [
    "## Random Forest Classifier"
   ]
  },
  {
   "cell_type": "code",
   "execution_count": 204,
   "id": "ab349c96",
   "metadata": {
    "ExecuteTime": {
     "end_time": "2022-05-28T15:05:12.055699Z",
     "start_time": "2022-05-28T15:05:11.400334Z"
    }
   },
   "outputs": [
    {
     "data": {
      "text/plain": [
       "0.4670912951167728"
      ]
     },
     "execution_count": 204,
     "metadata": {},
     "output_type": "execute_result"
    }
   ],
   "source": [
    "#model definition\n",
    "rf_model = en.RandomForestClassifier()\n",
    "\n",
    "#model training\n",
    "rf_model.fit(X_train, y_train)\n",
    "\n",
    "#model predict\n",
    "yhat_rf = rf_model.predict(X_val)\n",
    "\n",
    "#metricas\n",
    "metrics.f1_score(y_val, yhat_rf)"
   ]
  },
  {
   "cell_type": "code",
   "execution_count": 206,
   "id": "a1ac58ae",
   "metadata": {
    "ExecuteTime": {
     "end_time": "2022-05-28T15:05:43.235963Z",
     "start_time": "2022-05-28T15:05:43.230193Z"
    }
   },
   "outputs": [
    {
     "data": {
      "text/plain": [
       "0.8666312433581297"
      ]
     },
     "execution_count": 206,
     "metadata": {},
     "output_type": "execute_result"
    }
   ],
   "source": [
    "metrics.accuracy_score(y_val, yhat_rf)"
   ]
  },
  {
   "cell_type": "code",
   "execution_count": 207,
   "id": "7b11b364",
   "metadata": {
    "ExecuteTime": {
     "end_time": "2022-05-28T15:05:49.251871Z",
     "start_time": "2022-05-28T15:05:49.057392Z"
    }
   },
   "outputs": [
    {
     "data": {
      "text/plain": [
       "0.672387732379635"
      ]
     },
     "execution_count": 207,
     "metadata": {},
     "output_type": "execute_result"
    }
   ],
   "source": [
    "metrics.balanced_accuracy_score(y_val, yhat_rf)"
   ]
  },
  {
   "cell_type": "code",
   "execution_count": 216,
   "id": "f9382445",
   "metadata": {
    "ExecuteTime": {
     "end_time": "2022-05-28T15:14:25.167106Z",
     "start_time": "2022-05-28T15:14:25.156588Z"
    }
   },
   "outputs": [
    {
     "data": {
      "text/plain": [
       "0.3971119133574007"
      ]
     },
     "execution_count": 216,
     "metadata": {},
     "output_type": "execute_result"
    }
   ],
   "source": [
    "metrics.recall_score(y_val, yhat_rf)"
   ]
  },
  {
   "cell_type": "code",
   "execution_count": 215,
   "id": "df4057d6",
   "metadata": {
    "ExecuteTime": {
     "end_time": "2022-05-28T15:13:39.851933Z",
     "start_time": "2022-05-28T15:13:39.698056Z"
    }
   },
   "outputs": [
    {
     "data": {
      "image/png": "[encoded data removed]",
      "text/plain": [
       "<Figure size 432x288 with 2 Axes>"
      ]
     },
     "metadata": {
      "needs_background": "light"
     },
     "output_type": "display_data"
    }
   ],
   "source": [
    "skplt.metrics.plot_confusion_matrix(y_val, yhat_rf);"
   ]
  },
  {
   "cell_type": "code",
   "execution_count": null,
   "id": "f61a7221",
   "metadata": {},
   "outputs": [],
   "source": [
    "#melhorar feature engineering\n",
    "\n",
    "#eda - Univariada sweetviz\n",
    "\n",
    "#balanceamento\n",
    "\n",
    "#feature selection - boruta, extra trees, rankd"
   ]
  }
 ],
 "metadata": {
  "kernelspec": {
   "display_name": "Python 3 (ipykernel)",
   "language": "python",
   "name": "python3"
  },
  "language_info": {
   "codemirror_mode": {
    "name": "ipython",
    "version": 3
   },
   "file_extension": ".py",
   "mimetype": "text/x-python",
   "name": "python",
   "nbconvert_exporter": "python",
   "pygments_lexer": "ipython3",
   "version": "3.8.10"
  }
 },
 "nbformat": 4,
 "nbformat_minor": 5
}
