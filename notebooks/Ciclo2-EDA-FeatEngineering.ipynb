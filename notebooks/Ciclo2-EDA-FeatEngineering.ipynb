{
 "cells": [
  {
   "cell_type": "markdown",
   "id": "a0d43e12",
   "metadata": {},
   "source": [
    "# Imports"
   ]
  },
  {
   "cell_type": "code",
   "execution_count": null,
   "id": "910ca569",
   "metadata": {},
   "outputs": [],
   "source": [
    "# pip install pandas numpy seaborn scipy sklearn scikit-plot sweetviz matplotlib\n",
    "# xgboost boruta\n"
   ]
  },
  {
   "cell_type": "code",
   "execution_count": 158,
   "id": "9f6afde7",
   "metadata": {
    "ExecuteTime": {
     "end_time": "2022-05-28T16:40:30.265572Z",
     "start_time": "2022-05-28T16:40:30.254559Z"
    }
   },
   "outputs": [],
   "source": [
    "import pandas as pd\n",
    "import numpy as np\n",
    "import seaborn as sns\n",
    "from scipy import stats\n",
    "\n",
    "from sklearn import metrics\n",
    "from sklearn import preprocessing as pp\n",
    "from sklearn import model_selection   as ms\n",
    "from sklearn import ensemble          as en\n",
    "\n",
    "import scikitplot as skplt\n",
    "import sweetviz as sv\n",
    "\n",
    "from matplotlib import pyplot as plt\n",
    "import xgboost\n",
    "\n",
    "from boruta import BorutaPy"
   ]
  },
  {
   "cell_type": "markdown",
   "id": "87d21380",
   "metadata": {},
   "source": [
    "# Load Data"
   ]
  },
  {
   "cell_type": "markdown",
   "id": "49b80059",
   "metadata": {},
   "source": [
    "## Helper Functions"
   ]
  },
  {
   "cell_type": "code",
   "execution_count": 4,
   "id": "4ff5e128",
   "metadata": {
    "ExecuteTime": {
     "end_time": "2022-05-28T15:21:04.575207Z",
     "start_time": "2022-05-28T15:21:04.143978Z"
    }
   },
   "outputs": [],
   "source": [
    "df_raw = pd.read_csv('../data/train.csv')\n",
    "df_test = pd.read_csv('../data/test.csv')"
   ]
  },
  {
   "cell_type": "code",
   "execution_count": 5,
   "id": "d23c2de1",
   "metadata": {
    "ExecuteTime": {
     "end_time": "2022-05-28T15:21:05.776108Z",
     "start_time": "2022-05-28T15:21:05.768147Z"
    }
   },
   "outputs": [],
   "source": [
    "def cramer_v(x,y):\n",
    "    cm = pd.crosstab(x,y).values\n",
    "    n = cm.sum()\n",
    "    r, k = cm.shape\n",
    "    \n",
    "    chi2 = stats.chi2_contingency(cm)[0]\n",
    "    chi2corr = max(0, chi2 - (k-1)*(r-1)/(n-1))\n",
    "    \n",
    "    kcorr = k - (k-1)**2/(n-1)\n",
    "    rcorr = r - (r-1)**2/(n-1)\n",
    "    \n",
    "    return np.sqrt((chi2corr/n) / min(kcorr-1, rcorr-1))"
   ]
  },
  {
   "cell_type": "markdown",
   "id": "51d9823c",
   "metadata": {},
   "source": [
    "# Data Description"
   ]
  },
  {
   "cell_type": "code",
   "execution_count": 6,
   "id": "af4af66b",
   "metadata": {
    "ExecuteTime": {
     "end_time": "2022-05-28T15:21:06.791781Z",
     "start_time": "2022-05-28T15:21:06.784753Z"
    }
   },
   "outputs": [
    {
     "data": {
      "text/plain": [
       "(11762, 14)"
      ]
     },
     "execution_count": 6,
     "metadata": {},
     "output_type": "execute_result"
    }
   ],
   "source": [
    "df1 = df_raw.copy()\n",
    "\n",
    "df1.shape"
   ]
  },
  {
   "cell_type": "markdown",
   "id": "6cf09449",
   "metadata": {},
   "source": [
    "## Dtypes"
   ]
  },
  {
   "cell_type": "code",
   "execution_count": 7,
   "id": "0e70d4d9",
   "metadata": {
    "ExecuteTime": {
     "end_time": "2022-05-28T15:21:07.623802Z",
     "start_time": "2022-05-28T15:21:07.617394Z"
    }
   },
   "outputs": [
    {
     "data": {
      "text/plain": [
       "country                   object\n",
       "year                       int64\n",
       "uniqueid                  object\n",
       "location_type             object\n",
       "cellphone_access          object\n",
       "household_size             int64\n",
       "age_of_respondent          int64\n",
       "gender_of_respondent      object\n",
       "relationship_with_head    object\n",
       "marital_status            object\n",
       "education_level           object\n",
       "job_type                  object\n",
       "uid                       object\n",
       "bank_account              object\n",
       "dtype: object"
      ]
     },
     "execution_count": 7,
     "metadata": {},
     "output_type": "execute_result"
    }
   ],
   "source": [
    "df1.dtypes"
   ]
  },
  {
   "cell_type": "code",
   "execution_count": 8,
   "id": "680e898f",
   "metadata": {
    "ExecuteTime": {
     "end_time": "2022-05-28T15:21:08.333141Z",
     "start_time": "2022-05-28T15:21:08.236454Z"
    }
   },
   "outputs": [
    {
     "data": {
      "text/html": [
       "<div>\n",
       "<style scoped>\n",
       "    .dataframe tbody tr th:only-of-type {\n",
       "        vertical-align: middle;\n",
       "    }\n",
       "\n",
       "    .dataframe tbody tr th {\n",
       "        vertical-align: top;\n",
       "    }\n",
       "\n",
       "    .dataframe thead th {\n",
       "        text-align: right;\n",
       "    }\n",
       "</style>\n",
       "<table border=\"1\" class=\"dataframe\">\n",
       "  <thead>\n",
       "    <tr style=\"text-align: right;\">\n",
       "      <th></th>\n",
       "      <th>11724</th>\n",
       "    </tr>\n",
       "  </thead>\n",
       "  <tbody>\n",
       "    <tr>\n",
       "      <th>country</th>\n",
       "      <td>Rwanda</td>\n",
       "    </tr>\n",
       "    <tr>\n",
       "      <th>year</th>\n",
       "      <td>2016</td>\n",
       "    </tr>\n",
       "    <tr>\n",
       "      <th>uniqueid</th>\n",
       "      <td>uniqueid_5327</td>\n",
       "    </tr>\n",
       "    <tr>\n",
       "      <th>location_type</th>\n",
       "      <td>Rural</td>\n",
       "    </tr>\n",
       "    <tr>\n",
       "      <th>cellphone_access</th>\n",
       "      <td>Yes</td>\n",
       "    </tr>\n",
       "    <tr>\n",
       "      <th>household_size</th>\n",
       "      <td>5</td>\n",
       "    </tr>\n",
       "    <tr>\n",
       "      <th>age_of_respondent</th>\n",
       "      <td>29</td>\n",
       "    </tr>\n",
       "    <tr>\n",
       "      <th>gender_of_respondent</th>\n",
       "      <td>Male</td>\n",
       "    </tr>\n",
       "    <tr>\n",
       "      <th>relationship_with_head</th>\n",
       "      <td>Head of Household</td>\n",
       "    </tr>\n",
       "    <tr>\n",
       "      <th>marital_status</th>\n",
       "      <td>Married/Living together</td>\n",
       "    </tr>\n",
       "    <tr>\n",
       "      <th>education_level</th>\n",
       "      <td>Primary education</td>\n",
       "    </tr>\n",
       "    <tr>\n",
       "      <th>job_type</th>\n",
       "      <td>Farming and Fishing</td>\n",
       "    </tr>\n",
       "    <tr>\n",
       "      <th>uid</th>\n",
       "      <td>Rwanda_uniqueid_5327</td>\n",
       "    </tr>\n",
       "    <tr>\n",
       "      <th>bank_account</th>\n",
       "      <td>No</td>\n",
       "    </tr>\n",
       "  </tbody>\n",
       "</table>\n",
       "</div>"
      ],
      "text/plain": [
       "                                          11724\n",
       "country                                  Rwanda\n",
       "year                                       2016\n",
       "uniqueid                          uniqueid_5327\n",
       "location_type                             Rural\n",
       "cellphone_access                            Yes\n",
       "household_size                                5\n",
       "age_of_respondent                            29\n",
       "gender_of_respondent                       Male\n",
       "relationship_with_head        Head of Household\n",
       "marital_status          Married/Living together\n",
       "education_level               Primary education\n",
       "job_type                    Farming and Fishing\n",
       "uid                        Rwanda_uniqueid_5327\n",
       "bank_account                                 No"
      ]
     },
     "execution_count": 8,
     "metadata": {},
     "output_type": "execute_result"
    }
   ],
   "source": [
    "df1.sample().T"
   ]
  },
  {
   "cell_type": "markdown",
   "id": "c93c8b27",
   "metadata": {
    "ExecuteTime": {
     "end_time": "2022-05-28T13:13:37.841797Z",
     "start_time": "2022-05-28T13:13:37.819575Z"
    }
   },
   "source": [
    "## Check NA"
   ]
  },
  {
   "cell_type": "code",
   "execution_count": 9,
   "id": "8e8acd95",
   "metadata": {
    "ExecuteTime": {
     "end_time": "2022-05-28T15:21:08.605459Z",
     "start_time": "2022-05-28T15:21:08.570336Z"
    }
   },
   "outputs": [
    {
     "data": {
      "text/plain": [
       "country                   0\n",
       "year                      0\n",
       "uniqueid                  0\n",
       "location_type             0\n",
       "cellphone_access          0\n",
       "household_size            0\n",
       "age_of_respondent         0\n",
       "gender_of_respondent      0\n",
       "relationship_with_head    0\n",
       "marital_status            0\n",
       "education_level           0\n",
       "job_type                  0\n",
       "uid                       0\n",
       "bank_account              0\n",
       "dtype: int64"
      ]
     },
     "execution_count": 9,
     "metadata": {},
     "output_type": "execute_result"
    }
   ],
   "source": [
    "df1.isna().sum()"
   ]
  },
  {
   "cell_type": "markdown",
   "id": "7cd69c0b",
   "metadata": {
    "ExecuteTime": {
     "end_time": "2022-05-28T13:27:16.475408Z",
     "start_time": "2022-05-28T13:27:16.468880Z"
    }
   },
   "source": [
    "## Change types"
   ]
  },
  {
   "cell_type": "code",
   "execution_count": 10,
   "id": "18a676fc",
   "metadata": {
    "ExecuteTime": {
     "end_time": "2022-05-28T15:21:08.868298Z",
     "start_time": "2022-05-28T15:21:08.856348Z"
    }
   },
   "outputs": [],
   "source": [
    "df1['bank_account'] = df1['bank_account'].apply(lambda x: 1 if x=='Yes' else 0)"
   ]
  },
  {
   "cell_type": "markdown",
   "id": "92670e88",
   "metadata": {},
   "source": [
    "# Estatísticas descritiva"
   ]
  },
  {
   "cell_type": "code",
   "execution_count": 11,
   "id": "e1742174",
   "metadata": {
    "ExecuteTime": {
     "end_time": "2022-05-28T15:21:09.886161Z",
     "start_time": "2022-05-28T15:21:09.874440Z"
    }
   },
   "outputs": [],
   "source": [
    "num_attributes = df1.select_dtypes(['int64', 'float64'])\n",
    "\n",
    "cat_attributes = df1.select_dtypes(exclude = ['int64', 'float64'])"
   ]
  },
  {
   "cell_type": "code",
   "execution_count": 12,
   "id": "caa32eff",
   "metadata": {
    "ExecuteTime": {
     "end_time": "2022-05-28T15:21:10.161044Z",
     "start_time": "2022-05-28T15:21:10.016260Z"
    }
   },
   "outputs": [
    {
     "data": {
      "text/html": [
       "<div>\n",
       "<style scoped>\n",
       "    .dataframe tbody tr th:only-of-type {\n",
       "        vertical-align: middle;\n",
       "    }\n",
       "\n",
       "    .dataframe tbody tr th {\n",
       "        vertical-align: top;\n",
       "    }\n",
       "\n",
       "    .dataframe thead th {\n",
       "        text-align: right;\n",
       "    }\n",
       "</style>\n",
       "<table border=\"1\" class=\"dataframe\">\n",
       "  <thead>\n",
       "    <tr style=\"text-align: right;\">\n",
       "      <th></th>\n",
       "      <th>year</th>\n",
       "      <th>household_size</th>\n",
       "      <th>age_of_respondent</th>\n",
       "      <th>bank_account</th>\n",
       "    </tr>\n",
       "  </thead>\n",
       "  <tbody>\n",
       "    <tr>\n",
       "      <th>count</th>\n",
       "      <td>11762.000000</td>\n",
       "      <td>11762.000000</td>\n",
       "      <td>11762.000000</td>\n",
       "      <td>11762.000000</td>\n",
       "    </tr>\n",
       "    <tr>\n",
       "      <th>mean</th>\n",
       "      <td>2016.983336</td>\n",
       "      <td>3.793913</td>\n",
       "      <td>38.602364</td>\n",
       "      <td>0.143258</td>\n",
       "    </tr>\n",
       "    <tr>\n",
       "      <th>std</th>\n",
       "      <td>0.848669</td>\n",
       "      <td>2.225423</td>\n",
       "      <td>16.334624</td>\n",
       "      <td>0.350351</td>\n",
       "    </tr>\n",
       "    <tr>\n",
       "      <th>min</th>\n",
       "      <td>2016.000000</td>\n",
       "      <td>1.000000</td>\n",
       "      <td>16.000000</td>\n",
       "      <td>0.000000</td>\n",
       "    </tr>\n",
       "    <tr>\n",
       "      <th>25%</th>\n",
       "      <td>2016.000000</td>\n",
       "      <td>2.000000</td>\n",
       "      <td>26.000000</td>\n",
       "      <td>0.000000</td>\n",
       "    </tr>\n",
       "    <tr>\n",
       "      <th>50%</th>\n",
       "      <td>2017.000000</td>\n",
       "      <td>3.000000</td>\n",
       "      <td>35.000000</td>\n",
       "      <td>0.000000</td>\n",
       "    </tr>\n",
       "    <tr>\n",
       "      <th>75%</th>\n",
       "      <td>2018.000000</td>\n",
       "      <td>5.000000</td>\n",
       "      <td>48.000000</td>\n",
       "      <td>0.000000</td>\n",
       "    </tr>\n",
       "    <tr>\n",
       "      <th>max</th>\n",
       "      <td>2018.000000</td>\n",
       "      <td>21.000000</td>\n",
       "      <td>100.000000</td>\n",
       "      <td>1.000000</td>\n",
       "    </tr>\n",
       "  </tbody>\n",
       "</table>\n",
       "</div>"
      ],
      "text/plain": [
       "               year  household_size  age_of_respondent  bank_account\n",
       "count  11762.000000    11762.000000       11762.000000  11762.000000\n",
       "mean    2016.983336        3.793913          38.602364      0.143258\n",
       "std        0.848669        2.225423          16.334624      0.350351\n",
       "min     2016.000000        1.000000          16.000000      0.000000\n",
       "25%     2016.000000        2.000000          26.000000      0.000000\n",
       "50%     2017.000000        3.000000          35.000000      0.000000\n",
       "75%     2018.000000        5.000000          48.000000      0.000000\n",
       "max     2018.000000       21.000000         100.000000      1.000000"
      ]
     },
     "execution_count": 12,
     "metadata": {},
     "output_type": "execute_result"
    }
   ],
   "source": [
    "num_attributes.describe()"
   ]
  },
  {
   "cell_type": "code",
   "execution_count": 13,
   "id": "726bd6d8",
   "metadata": {
    "ExecuteTime": {
     "end_time": "2022-05-28T15:21:10.901222Z",
     "start_time": "2022-05-28T15:21:10.840605Z"
    }
   },
   "outputs": [
    {
     "data": {
      "text/html": [
       "<div>\n",
       "<style scoped>\n",
       "    .dataframe tbody tr th:only-of-type {\n",
       "        vertical-align: middle;\n",
       "    }\n",
       "\n",
       "    .dataframe tbody tr th {\n",
       "        vertical-align: top;\n",
       "    }\n",
       "\n",
       "    .dataframe thead th {\n",
       "        text-align: right;\n",
       "    }\n",
       "</style>\n",
       "<table border=\"1\" class=\"dataframe\">\n",
       "  <thead>\n",
       "    <tr style=\"text-align: right;\">\n",
       "      <th></th>\n",
       "      <th>country</th>\n",
       "      <th>uniqueid</th>\n",
       "      <th>location_type</th>\n",
       "      <th>cellphone_access</th>\n",
       "      <th>gender_of_respondent</th>\n",
       "      <th>relationship_with_head</th>\n",
       "      <th>marital_status</th>\n",
       "      <th>education_level</th>\n",
       "      <th>job_type</th>\n",
       "      <th>uid</th>\n",
       "    </tr>\n",
       "  </thead>\n",
       "  <tbody>\n",
       "    <tr>\n",
       "      <th>count</th>\n",
       "      <td>11762</td>\n",
       "      <td>11762</td>\n",
       "      <td>11762</td>\n",
       "      <td>11762</td>\n",
       "      <td>11762</td>\n",
       "      <td>11762</td>\n",
       "      <td>11762</td>\n",
       "      <td>11762</td>\n",
       "      <td>11762</td>\n",
       "      <td>11762</td>\n",
       "    </tr>\n",
       "    <tr>\n",
       "      <th>unique</th>\n",
       "      <td>4</td>\n",
       "      <td>6916</td>\n",
       "      <td>2</td>\n",
       "      <td>2</td>\n",
       "      <td>2</td>\n",
       "      <td>6</td>\n",
       "      <td>5</td>\n",
       "      <td>6</td>\n",
       "      <td>10</td>\n",
       "      <td>11762</td>\n",
       "    </tr>\n",
       "    <tr>\n",
       "      <th>top</th>\n",
       "      <td>Rwanda</td>\n",
       "      <td>uniqueid_403</td>\n",
       "      <td>Rural</td>\n",
       "      <td>Yes</td>\n",
       "      <td>Female</td>\n",
       "      <td>Head of Household</td>\n",
       "      <td>Married/Living together</td>\n",
       "      <td>Primary education</td>\n",
       "      <td>Self employed</td>\n",
       "      <td>Rwanda_uniqueid_4858</td>\n",
       "    </tr>\n",
       "    <tr>\n",
       "      <th>freq</th>\n",
       "      <td>4335</td>\n",
       "      <td>4</td>\n",
       "      <td>7100</td>\n",
       "      <td>8786</td>\n",
       "      <td>6902</td>\n",
       "      <td>6358</td>\n",
       "      <td>5433</td>\n",
       "      <td>6408</td>\n",
       "      <td>3207</td>\n",
       "      <td>1</td>\n",
       "    </tr>\n",
       "  </tbody>\n",
       "</table>\n",
       "</div>"
      ],
      "text/plain": [
       "       country      uniqueid location_type cellphone_access  \\\n",
       "count    11762         11762         11762            11762   \n",
       "unique       4          6916             2                2   \n",
       "top     Rwanda  uniqueid_403         Rural              Yes   \n",
       "freq      4335             4          7100             8786   \n",
       "\n",
       "       gender_of_respondent relationship_with_head           marital_status  \\\n",
       "count                 11762                  11762                    11762   \n",
       "unique                    2                      6                        5   \n",
       "top                  Female      Head of Household  Married/Living together   \n",
       "freq                   6902                   6358                     5433   \n",
       "\n",
       "          education_level       job_type                   uid  \n",
       "count               11762          11762                 11762  \n",
       "unique                  6             10                 11762  \n",
       "top     Primary education  Self employed  Rwanda_uniqueid_4858  \n",
       "freq                 6408           3207                     1  "
      ]
     },
     "execution_count": 13,
     "metadata": {},
     "output_type": "execute_result"
    }
   ],
   "source": [
    "cat_attributes.describe()"
   ]
  },
  {
   "cell_type": "code",
   "execution_count": 14,
   "id": "6b62ad0e",
   "metadata": {
    "ExecuteTime": {
     "end_time": "2022-05-28T15:21:11.034248Z",
     "start_time": "2022-05-28T15:21:10.981462Z"
    }
   },
   "outputs": [
    {
     "data": {
      "text/plain": [
       "0    0.856742\n",
       "1    0.143258\n",
       "Name: bank_account, dtype: float64"
      ]
     },
     "execution_count": 14,
     "metadata": {},
     "output_type": "execute_result"
    }
   ],
   "source": [
    "df1['bank_account'].value_counts(normalize=True)"
   ]
  },
  {
   "cell_type": "code",
   "execution_count": 15,
   "id": "731f16fd",
   "metadata": {
    "ExecuteTime": {
     "end_time": "2022-05-28T15:21:11.197012Z",
     "start_time": "2022-05-28T15:21:11.126055Z"
    }
   },
   "outputs": [
    {
     "data": {
      "text/plain": [
       "Rwanda      0.368560\n",
       "Tanzania    0.279544\n",
       "Kenya       0.259480\n",
       "Uganda      0.092416\n",
       "Name: country, dtype: float64"
      ]
     },
     "execution_count": 15,
     "metadata": {},
     "output_type": "execute_result"
    }
   ],
   "source": [
    "df1['country'].value_counts(normalize=True)"
   ]
  },
  {
   "cell_type": "code",
   "execution_count": 20,
   "id": "d86257de",
   "metadata": {
    "ExecuteTime": {
     "end_time": "2022-05-28T15:21:33.587187Z",
     "start_time": "2022-05-28T15:21:33.021231Z"
    }
   },
   "outputs": [
    {
     "data": {
      "image/png": "[encoded data removed]",
      "text/plain": [
       "<Figure size 432x288 with 2 Axes>"
      ]
     },
     "metadata": {
      "needs_background": "light"
     },
     "output_type": "display_data"
    }
   ],
   "source": [
    "correlation = num_attributes.corr(method='pearson')\n",
    "sns.heatmap(correlation, annot=True);"
   ]
  },
  {
   "cell_type": "code",
   "execution_count": 125,
   "id": "e663d45c",
   "metadata": {
    "ExecuteTime": {
     "end_time": "2022-05-28T16:37:13.031586Z",
     "start_time": "2022-05-28T16:37:13.023182Z"
    }
   },
   "outputs": [],
   "source": [
    "# #List os cat attributes for cramer v correlation\n",
    "# cat_attributes_list = cat_attributes.columns.tolist()\n",
    "\n",
    "# #dict to get all corr (rowxcolumn)\n",
    "# corr_dict = {}\n",
    "# for i in range(len(cat_attributes_list)):\n",
    "#     corr_list=[]\n",
    "#     for j in range(len(cat_attributes_list)):\n",
    "#         ref = cat_attributes_list[i]\n",
    "#         feat = cat_attributes_list[j]\n",
    "        \n",
    "#         corr = cramer_v(cat_attributes[ref], cat_attributes[feat])\n",
    "#         corr_list.append(corr)\n",
    "#     corr_dict[ref] = corr_list\n",
    "\n",
    "# corr_df = pd.DataFrame(corr_dict)\n",
    "# corr_df = corr_df.set_index(corr_df.columns)\n",
    "\n",
    "# sns.heatmap(corr_df, annot=True);"
   ]
  },
  {
   "cell_type": "markdown",
   "id": "2294cc5d",
   "metadata": {},
   "source": [
    "### EDA Sweet Viz"
   ]
  },
  {
   "cell_type": "code",
   "execution_count": 126,
   "id": "22efc7d1",
   "metadata": {
    "ExecuteTime": {
     "end_time": "2022-05-28T16:37:18.221847Z",
     "start_time": "2022-05-28T16:37:13.354482Z"
    }
   },
   "outputs": [
    {
     "data": {
      "application/vnd.jupyter.widget-view+json": {
       "model_id": "283918c5ff154bc3b80f499a0ac3716a",
       "version_major": 2,
       "version_minor": 0
      },
      "text/plain": [
       "                                             |      | [  0%]   00:00 -> (? left)"
      ]
     },
     "metadata": {},
     "output_type": "display_data"
    },
    {
     "name": "stdout",
     "output_type": "stream",
     "text": [
      "Report SWEETVIZ_REPORT.html was generated! NOTEBOOK/COLAB USERS: the web browser MAY not pop up, regardless, the report IS saved in your notebook/colab files.\n"
     ]
    }
   ],
   "source": [
    "my_report = sv.analyze(df1, target_feat='bank_account')\n",
    "\n",
    "my_report.show_html() # Default arguments will generate to \"SWEETVIZ_REPORT.html\""
   ]
  },
  {
   "cell_type": "markdown",
   "id": "b8f58c39",
   "metadata": {},
   "source": [
    "### insights\n",
    "\n",
    "* Cellphone access é muito decisivo para variavel resposta\n",
    "* Quênia possui maior proporção de pessoas com conta bancária (26%)\n",
    "* Ruanda possui maior número absoluto, mas proporcionalmente é baixo\n",
    "* O ano parece não ser muito relevante (avaliar...)\n",
    "* 60% da amostra está na área rural, e a proporção destes com conta bancária é inferior àqueles da zona urbana\n",
    "* O uso de banco decai para idades avançadas\n",
    "* Homens utilizam mais o serviço proporcionalmente\n",
    "* Quanto maior o nivel educacional, maior proporção de pessoas que usam serviço\n",
    "\n",
    "* Investigar outliers em relação ao household size\n",
    "\n",
    "* marital status pouco relevante\n",
    "\n",
    "### para o próximo ciclo\n",
    "\n",
    "* analisar a correlação entre grau de educação com tipo de emprego, remover caso haja multicolinearidade\n"
   ]
  },
  {
   "cell_type": "markdown",
   "id": "708b3a34",
   "metadata": {},
   "source": [
    "## Feature Engineering"
   ]
  },
  {
   "cell_type": "code",
   "execution_count": 127,
   "id": "a0367219",
   "metadata": {
    "ExecuteTime": {
     "end_time": "2022-05-28T16:37:18.230498Z",
     "start_time": "2022-05-28T16:37:18.225655Z"
    }
   },
   "outputs": [],
   "source": [
    "#classificar tipo de trabalhos e agrupar - Emprego fixo (1,0)\n",
    "#classificar idades \n",
    "#classificar relationship with head - provedor (1,0)\n",
    "\n",
    "\n",
    "\n",
    "#remover \"Dont know\" - marital status\n",
    "#remover \"Other/Dont know/RTA\" - education level\n",
    "#remover 'Dont Know/Refuse to answer' - job \n"
   ]
  },
  {
   "cell_type": "code",
   "execution_count": 128,
   "id": "34b28d78",
   "metadata": {
    "ExecuteTime": {
     "end_time": "2022-05-28T16:37:18.390887Z",
     "start_time": "2022-05-28T16:37:18.232463Z"
    }
   },
   "outputs": [],
   "source": [
    "df2 = df1.copy()"
   ]
  },
  {
   "cell_type": "code",
   "execution_count": 129,
   "id": "2b10027b",
   "metadata": {
    "ExecuteTime": {
     "end_time": "2022-05-28T16:37:18.506255Z",
     "start_time": "2022-05-28T16:37:18.401813Z"
    }
   },
   "outputs": [
    {
     "data": {
      "text/html": [
       "<div>\n",
       "<style scoped>\n",
       "    .dataframe tbody tr th:only-of-type {\n",
       "        vertical-align: middle;\n",
       "    }\n",
       "\n",
       "    .dataframe tbody tr th {\n",
       "        vertical-align: top;\n",
       "    }\n",
       "\n",
       "    .dataframe thead th {\n",
       "        text-align: right;\n",
       "    }\n",
       "</style>\n",
       "<table border=\"1\" class=\"dataframe\">\n",
       "  <thead>\n",
       "    <tr style=\"text-align: right;\">\n",
       "      <th></th>\n",
       "      <th>9787</th>\n",
       "    </tr>\n",
       "  </thead>\n",
       "  <tbody>\n",
       "    <tr>\n",
       "      <th>country</th>\n",
       "      <td>Rwanda</td>\n",
       "    </tr>\n",
       "    <tr>\n",
       "      <th>year</th>\n",
       "      <td>2016</td>\n",
       "    </tr>\n",
       "    <tr>\n",
       "      <th>uniqueid</th>\n",
       "      <td>uniqueid_4918</td>\n",
       "    </tr>\n",
       "    <tr>\n",
       "      <th>location_type</th>\n",
       "      <td>Rural</td>\n",
       "    </tr>\n",
       "    <tr>\n",
       "      <th>cellphone_access</th>\n",
       "      <td>Yes</td>\n",
       "    </tr>\n",
       "    <tr>\n",
       "      <th>household_size</th>\n",
       "      <td>2</td>\n",
       "    </tr>\n",
       "    <tr>\n",
       "      <th>age_of_respondent</th>\n",
       "      <td>68</td>\n",
       "    </tr>\n",
       "    <tr>\n",
       "      <th>gender_of_respondent</th>\n",
       "      <td>Female</td>\n",
       "    </tr>\n",
       "    <tr>\n",
       "      <th>relationship_with_head</th>\n",
       "      <td>Head of Household</td>\n",
       "    </tr>\n",
       "    <tr>\n",
       "      <th>marital_status</th>\n",
       "      <td>Widowed</td>\n",
       "    </tr>\n",
       "    <tr>\n",
       "      <th>education_level</th>\n",
       "      <td>Primary education</td>\n",
       "    </tr>\n",
       "    <tr>\n",
       "      <th>job_type</th>\n",
       "      <td>Farming and Fishing</td>\n",
       "    </tr>\n",
       "    <tr>\n",
       "      <th>uid</th>\n",
       "      <td>Rwanda_uniqueid_4918</td>\n",
       "    </tr>\n",
       "    <tr>\n",
       "      <th>bank_account</th>\n",
       "      <td>0</td>\n",
       "    </tr>\n",
       "  </tbody>\n",
       "</table>\n",
       "</div>"
      ],
      "text/plain": [
       "                                        9787\n",
       "country                               Rwanda\n",
       "year                                    2016\n",
       "uniqueid                       uniqueid_4918\n",
       "location_type                          Rural\n",
       "cellphone_access                         Yes\n",
       "household_size                             2\n",
       "age_of_respondent                         68\n",
       "gender_of_respondent                  Female\n",
       "relationship_with_head     Head of Household\n",
       "marital_status                       Widowed\n",
       "education_level            Primary education\n",
       "job_type                 Farming and Fishing\n",
       "uid                     Rwanda_uniqueid_4918\n",
       "bank_account                               0"
      ]
     },
     "execution_count": 129,
     "metadata": {},
     "output_type": "execute_result"
    }
   ],
   "source": [
    "df2.sample().T"
   ]
  },
  {
   "cell_type": "code",
   "execution_count": 130,
   "id": "67dbcbf3",
   "metadata": {
    "ExecuteTime": {
     "end_time": "2022-05-28T16:37:18.876878Z",
     "start_time": "2022-05-28T16:37:18.512536Z"
    }
   },
   "outputs": [],
   "source": [
    "#location type & cellphone\n",
    "df2['rural_cellphone_access'] = df2.apply(lambda x: 1 if (x['location_type']=='Rural') & (x['cellphone_access']=='Yes') else 0, axis=1)\n",
    "df2['urban_cellphone_access'] = df2.apply(lambda x: 1 if (x['location_type']=='Urban') & (x['cellphone_access']=='Yes') else 0, axis=1)\n",
    "\n",
    "#Classificar idades \n",
    "df2['idade_categoria'] = df2['age_of_respondent'].apply(lambda x: 'jovem' if x<20 else\n",
    "                                                        'jovem_adulto' if (x>=20) & (x<30) else\n",
    "                                                        'adulto' if (x>=30) & (x<40) else\n",
    "                                                        'meia_idade' if (x>=40) & (x<55) else \n",
    "                                                         'idosos')\n",
    "\n",
    "#classificar relationship with head\n",
    "\n",
    "df2['provedor'] = df2['relationship_with_head'].apply(lambda x: 1 if (x=='Head of Household') or (x=='Spouse') else 0)\n",
    "\n",
    "\n",
    "\n"
   ]
  },
  {
   "cell_type": "markdown",
   "id": "8ba79460",
   "metadata": {},
   "source": [
    "Cada uniqueid pode ter até 4 pessoas (uid) diferentes de países diferentes cadastradas."
   ]
  },
  {
   "cell_type": "code",
   "execution_count": 131,
   "id": "bc7006c8",
   "metadata": {
    "ExecuteTime": {
     "end_time": "2022-05-28T16:37:25.014177Z",
     "start_time": "2022-05-28T16:37:18.878401Z"
    }
   },
   "outputs": [
    {
     "data": {
      "application/vnd.jupyter.widget-view+json": {
       "model_id": "62a7e2d69ede4d07ad24fdd8ca369cf1",
       "version_major": 2,
       "version_minor": 0
      },
      "text/plain": [
       "                                             |      | [  0%]   00:00 -> (? left)"
      ]
     },
     "metadata": {},
     "output_type": "display_data"
    },
    {
     "name": "stdout",
     "output_type": "stream",
     "text": [
      "Report SWEETVIZ_REPORT.html was generated! NOTEBOOK/COLAB USERS: the web browser MAY not pop up, regardless, the report IS saved in your notebook/colab files.\n"
     ]
    }
   ],
   "source": [
    "# my_report = sv.analyze(df2, target_feat='bank_account')\n",
    "\n",
    "# my_report.show_html() # Default arguments will generate to \"SWEETVIZ_REPORT.html\""
   ]
  },
  {
   "cell_type": "markdown",
   "id": "df0cf9d6",
   "metadata": {},
   "source": [
    "# EDA"
   ]
  },
  {
   "cell_type": "markdown",
   "id": "c3610f8c",
   "metadata": {
    "ExecuteTime": {
     "end_time": "2022-05-28T16:43:17.212531Z",
     "start_time": "2022-05-28T16:43:17.204364Z"
    }
   },
   "source": [
    "## Bivariate Analysis"
   ]
  },
  {
   "cell_type": "markdown",
   "id": "34864c4d",
   "metadata": {},
   "source": [
    "### cellphone access "
   ]
  },
  {
   "cell_type": "code",
   "execution_count": 173,
   "id": "680497c9",
   "metadata": {
    "ExecuteTime": {
     "end_time": "2022-05-28T16:45:36.797819Z",
     "start_time": "2022-05-28T16:45:36.618337Z"
    }
   },
   "outputs": [
    {
     "data": {
      "image/png": "[encoded data removed]",
      "text/plain": [
       "<Figure size 600x400 with 1 Axes>"
      ]
     },
     "metadata": {},
     "output_type": "display_data"
    }
   ],
   "source": [
    "\n",
    "aux = df2[['cellphone_access', 'uid', 'bank_account']].groupby(['cellphone_access', 'bank_account']).count().reset_index()\n",
    "\n",
    "sns.barplot(data= aux, x='cellphone_access', y='uid', hue='bank_account');"
   ]
  },
  {
   "cell_type": "markdown",
   "id": "c489f163",
   "metadata": {},
   "source": [
    "### job type"
   ]
  },
  {
   "cell_type": "code",
   "execution_count": 178,
   "id": "7538d8a6",
   "metadata": {
    "ExecuteTime": {
     "end_time": "2022-05-28T16:47:58.501208Z",
     "start_time": "2022-05-28T16:47:58.252376Z"
    }
   },
   "outputs": [
    {
     "data": {
      "image/png": "[encoded data removed]",
      "text/plain": [
       "<Figure size 600x400 with 1 Axes>"
      ]
     },
     "metadata": {},
     "output_type": "display_data"
    }
   ],
   "source": [
    "aux = df2[['job_type', 'uid', 'bank_account']].groupby(['job_type', 'bank_account']).count().reset_index().sort_values(['bank_account','uid'], ascending=False)\n",
    "\n",
    "sns.barplot(data= aux, x='uid', y='job_type', hue='bank_account');"
   ]
  },
  {
   "cell_type": "markdown",
   "id": "25d07f0e",
   "metadata": {},
   "source": [
    "### marital status"
   ]
  },
  {
   "cell_type": "code",
   "execution_count": 179,
   "id": "c516520d",
   "metadata": {
    "ExecuteTime": {
     "end_time": "2022-05-28T16:49:02.953570Z",
     "start_time": "2022-05-28T16:49:02.761225Z"
    }
   },
   "outputs": [
    {
     "data": {
      "image/png": "[encoded data removed]",
      "text/plain": [
       "<Figure size 600x400 with 1 Axes>"
      ]
     },
     "metadata": {},
     "output_type": "display_data"
    }
   ],
   "source": [
    "aux = df2[['marital_status', 'uid', 'bank_account']].groupby(['marital_status', 'bank_account']).count().reset_index().sort_values(['bank_account','uid'], ascending=False)\n",
    "\n",
    "sns.barplot(data= aux, x='uid', y='marital_status', hue='bank_account');"
   ]
  },
  {
   "cell_type": "markdown",
   "id": "4bdad3ff",
   "metadata": {
    "ExecuteTime": {
     "end_time": "2022-05-28T16:49:51.500241Z",
     "start_time": "2022-05-28T16:49:51.332932Z"
    }
   },
   "source": [
    "### country gender"
   ]
  },
  {
   "cell_type": "code",
   "execution_count": 199,
   "id": "118985c2",
   "metadata": {
    "ExecuteTime": {
     "end_time": "2022-05-28T16:55:05.447328Z",
     "start_time": "2022-05-28T16:55:05.104927Z"
    }
   },
   "outputs": [
    {
     "data": {
      "image/png": "[encoded data removed]",
      "text/plain": [
       "<Figure size 1200x400 with 2 Axes>"
      ]
     },
     "metadata": {},
     "output_type": "display_data"
    }
   ],
   "source": [
    "plt.figure(figsize=(12, 4))\n",
    "plt.subplot(1,2,1)\n",
    "\n",
    "male = df2[df2['gender_of_respondent']=='Male']\n",
    "female = df2[df2['gender_of_respondent']=='Female']\n",
    "\n",
    "\n",
    "aux = male[['country', 'uid', 'bank_account']].groupby(['country', 'bank_account']).count().reset_index().sort_values(['bank_account','uid'], ascending=False)\n",
    "aux1 = female[['country', 'uid', 'bank_account']].groupby(['country', 'bank_account']).count().reset_index().sort_values(['bank_account','uid'], ascending=False)\n",
    "\n",
    "sns.barplot(data= aux, x='uid', y='country', hue='bank_account').set_title('Country: Male');\n",
    "\n",
    "plt.subplot(1,2,2)\n",
    "\n",
    "sns.barplot(data= aux1, x='uid', y='country', hue='bank_account').set_title('Country: Female');\n",
    "\n",
    "plt.tight_layout()"
   ]
  },
  {
   "cell_type": "markdown",
   "id": "bc81231b",
   "metadata": {},
   "source": [
    "### gender and marital status"
   ]
  },
  {
   "cell_type": "code",
   "execution_count": 200,
   "id": "4db87bfc",
   "metadata": {
    "ExecuteTime": {
     "end_time": "2022-05-28T16:57:25.112252Z",
     "start_time": "2022-05-28T16:57:24.745252Z"
    }
   },
   "outputs": [
    {
     "data": {
      "image/png": "[encoded data removed]",
      "text/plain": [
       "<Figure size 1200x400 with 2 Axes>"
      ]
     },
     "metadata": {},
     "output_type": "display_data"
    }
   ],
   "source": [
    "plt.figure(figsize=(12, 4))\n",
    "plt.subplot(1,2,1)\n",
    "\n",
    "male = df2[df2['gender_of_respondent']=='Male']\n",
    "female = df2[df2['gender_of_respondent']=='Female']\n",
    "\n",
    "\n",
    "aux = male[['marital_status', 'uid', 'bank_account']].groupby(['marital_status', 'bank_account']).count().reset_index().sort_values(['bank_account','uid'], ascending=False)\n",
    "aux1 = female[['marital_status', 'uid', 'bank_account']].groupby(['marital_status', 'bank_account']).count().reset_index().sort_values(['bank_account','uid'], ascending=False)\n",
    "\n",
    "sns.barplot(data= aux, x='uid', y='marital_status', hue='bank_account').set_title('marital status: Male');\n",
    "\n",
    "plt.subplot(1,2,2)\n",
    "\n",
    "sns.barplot(data= aux1, x='uid', y='marital_status', hue='bank_account').set_title('marital status: Female');\n",
    "\n",
    "plt.tight_layout()"
   ]
  },
  {
   "cell_type": "markdown",
   "id": "6361a4ca",
   "metadata": {},
   "source": [
    "### gender e job type"
   ]
  },
  {
   "cell_type": "code",
   "execution_count": 205,
   "id": "b3a81058",
   "metadata": {
    "ExecuteTime": {
     "end_time": "2022-05-28T17:03:02.474922Z",
     "start_time": "2022-05-28T17:03:01.571091Z"
    }
   },
   "outputs": [
    {
     "data": {
      "image/png": "[encoded data removed]",
      "text/plain": [
       "<Figure size 1200x400 with 2 Axes>"
      ]
     },
     "metadata": {},
     "output_type": "display_data"
    }
   ],
   "source": [
    "plt.figure(figsize=(12, 4))\n",
    "plt.subplot(1,2,1)\n",
    "\n",
    "male = df2[df2['gender_of_respondent']=='Male']\n",
    "female = df2[df2['gender_of_respondent']=='Female']\n",
    "\n",
    "\n",
    "aux = male[['job_type', 'uid', 'bank_account']].groupby(['job_type', 'bank_account']).count().reset_index().sort_values(['bank_account','uid'], ascending=False)\n",
    "aux1 = female[['job_type', 'uid', 'bank_account']].groupby(['job_type', 'bank_account']).count().reset_index().sort_values(['bank_account','uid'], ascending=False)\n",
    "\n",
    "sns.barplot(data= aux, x='uid', y='job_type', hue='bank_account').set_title('job type: Male');\n",
    "\n",
    "plt.subplot(1,2,2)\n",
    "\n",
    "sns.barplot(data= aux1, x='uid', y='job_type', hue='bank_account').set_title('job type: Female');\n",
    "\n",
    "plt.tight_layout()"
   ]
  },
  {
   "cell_type": "markdown",
   "id": "7f6d9bd3",
   "metadata": {},
   "source": [
    "Formally employed Private é a classe com maior proporção de pessoas que usam o serviço"
   ]
  },
  {
   "cell_type": "markdown",
   "id": "f0d90cb1",
   "metadata": {
    "ExecuteTime": {
     "end_time": "2022-05-28T17:02:09.027009Z",
     "start_time": "2022-05-28T17:02:09.017649Z"
    }
   },
   "source": [
    "### gender e age"
   ]
  },
  {
   "cell_type": "code",
   "execution_count": 206,
   "id": "ca24ba46",
   "metadata": {
    "ExecuteTime": {
     "end_time": "2022-05-28T17:03:27.946579Z",
     "start_time": "2022-05-28T17:03:27.581279Z"
    }
   },
   "outputs": [
    {
     "data": {
      "image/png": "[encoded data removed]",
      "text/plain": [
       "<Figure size 1200x400 with 2 Axes>"
      ]
     },
     "metadata": {},
     "output_type": "display_data"
    }
   ],
   "source": [
    "plt.figure(figsize=(12, 4))\n",
    "plt.subplot(1,2,1)\n",
    "\n",
    "male = df2[df2['gender_of_respondent']=='Male']\n",
    "female = df2[df2['gender_of_respondent']=='Female']\n",
    "\n",
    "\n",
    "aux = male[['idade_categoria', 'uid', 'bank_account']].groupby(['idade_categoria', 'bank_account']).count().reset_index().sort_values(['bank_account','uid'], ascending=False)\n",
    "aux1 = female[['idade_categoria', 'uid', 'bank_account']].groupby(['idade_categoria', 'bank_account']).count().reset_index().sort_values(['bank_account','uid'], ascending=False)\n",
    "\n",
    "sns.barplot(data= aux, x='uid', y='idade_categoria', hue='bank_account').set_title('age: Male');\n",
    "\n",
    "plt.subplot(1,2,2)\n",
    "\n",
    "sns.barplot(data= aux1, x='uid', y='idade_categoria', hue='bank_account').set_title('age: Female');\n",
    "\n",
    "plt.tight_layout()"
   ]
  },
  {
   "cell_type": "markdown",
   "id": "22f93d8c",
   "metadata": {
    "ExecuteTime": {
     "end_time": "2022-05-28T14:07:50.816086Z",
     "start_time": "2022-05-28T14:07:50.791779Z"
    }
   },
   "source": [
    "### Split train e validation"
   ]
  },
  {
   "cell_type": "code",
   "execution_count": 133,
   "id": "79c38d17",
   "metadata": {
    "ExecuteTime": {
     "end_time": "2022-05-28T16:37:29.380163Z",
     "start_time": "2022-05-28T16:37:29.361290Z"
    }
   },
   "outputs": [],
   "source": [
    "X = df2.drop(['uid', 'uniqueid', 'bank_account', 'idade_categoria'], axis=1)\n",
    "y = df2['bank_account'].copy()\n",
    "\n",
    "X_train, X_val, y_train, y_val = ms.train_test_split(X, y, test_size=0.2)"
   ]
  },
  {
   "cell_type": "markdown",
   "id": "8b578810",
   "metadata": {},
   "source": [
    "# Data preparation"
   ]
  },
  {
   "cell_type": "code",
   "execution_count": 134,
   "id": "d89b1cd9",
   "metadata": {
    "ExecuteTime": {
     "end_time": "2022-05-28T16:37:30.209251Z",
     "start_time": "2022-05-28T16:37:30.180551Z"
    }
   },
   "outputs": [
    {
     "data": {
      "text/html": [
       "<div>\n",
       "<style scoped>\n",
       "    .dataframe tbody tr th:only-of-type {\n",
       "        vertical-align: middle;\n",
       "    }\n",
       "\n",
       "    .dataframe tbody tr th {\n",
       "        vertical-align: top;\n",
       "    }\n",
       "\n",
       "    .dataframe thead th {\n",
       "        text-align: right;\n",
       "    }\n",
       "</style>\n",
       "<table border=\"1\" class=\"dataframe\">\n",
       "  <thead>\n",
       "    <tr style=\"text-align: right;\">\n",
       "      <th></th>\n",
       "      <th>country</th>\n",
       "      <th>year</th>\n",
       "      <th>location_type</th>\n",
       "      <th>cellphone_access</th>\n",
       "      <th>household_size</th>\n",
       "      <th>age_of_respondent</th>\n",
       "      <th>gender_of_respondent</th>\n",
       "      <th>relationship_with_head</th>\n",
       "      <th>marital_status</th>\n",
       "      <th>education_level</th>\n",
       "      <th>job_type</th>\n",
       "      <th>rural_cellphone_access</th>\n",
       "      <th>urban_cellphone_access</th>\n",
       "      <th>provedor</th>\n",
       "      <th>bank_account</th>\n",
       "    </tr>\n",
       "  </thead>\n",
       "  <tbody>\n",
       "    <tr>\n",
       "      <th>3570</th>\n",
       "      <td>Rwanda</td>\n",
       "      <td>2016</td>\n",
       "      <td>Rural</td>\n",
       "      <td>Yes</td>\n",
       "      <td>7</td>\n",
       "      <td>73</td>\n",
       "      <td>Female</td>\n",
       "      <td>Head of Household</td>\n",
       "      <td>Widowed</td>\n",
       "      <td>Primary education</td>\n",
       "      <td>Farming and Fishing</td>\n",
       "      <td>1</td>\n",
       "      <td>0</td>\n",
       "      <td>1</td>\n",
       "      <td>0</td>\n",
       "    </tr>\n",
       "    <tr>\n",
       "      <th>9268</th>\n",
       "      <td>Kenya</td>\n",
       "      <td>2018</td>\n",
       "      <td>Urban</td>\n",
       "      <td>Yes</td>\n",
       "      <td>2</td>\n",
       "      <td>30</td>\n",
       "      <td>Female</td>\n",
       "      <td>Spouse</td>\n",
       "      <td>Married/Living together</td>\n",
       "      <td>Secondary education</td>\n",
       "      <td>Self employed</td>\n",
       "      <td>0</td>\n",
       "      <td>1</td>\n",
       "      <td>1</td>\n",
       "      <td>1</td>\n",
       "    </tr>\n",
       "    <tr>\n",
       "      <th>2726</th>\n",
       "      <td>Rwanda</td>\n",
       "      <td>2016</td>\n",
       "      <td>Rural</td>\n",
       "      <td>Yes</td>\n",
       "      <td>4</td>\n",
       "      <td>17</td>\n",
       "      <td>Male</td>\n",
       "      <td>Child</td>\n",
       "      <td>Single/Never Married</td>\n",
       "      <td>Secondary education</td>\n",
       "      <td>Farming and Fishing</td>\n",
       "      <td>1</td>\n",
       "      <td>0</td>\n",
       "      <td>0</td>\n",
       "      <td>0</td>\n",
       "    </tr>\n",
       "    <tr>\n",
       "      <th>1181</th>\n",
       "      <td>Rwanda</td>\n",
       "      <td>2016</td>\n",
       "      <td>Rural</td>\n",
       "      <td>Yes</td>\n",
       "      <td>6</td>\n",
       "      <td>35</td>\n",
       "      <td>Female</td>\n",
       "      <td>Parent</td>\n",
       "      <td>Single/Never Married</td>\n",
       "      <td>Secondary education</td>\n",
       "      <td>Formally employed Private</td>\n",
       "      <td>1</td>\n",
       "      <td>0</td>\n",
       "      <td>0</td>\n",
       "      <td>1</td>\n",
       "    </tr>\n",
       "    <tr>\n",
       "      <th>3115</th>\n",
       "      <td>Kenya</td>\n",
       "      <td>2018</td>\n",
       "      <td>Urban</td>\n",
       "      <td>Yes</td>\n",
       "      <td>6</td>\n",
       "      <td>29</td>\n",
       "      <td>Female</td>\n",
       "      <td>Spouse</td>\n",
       "      <td>Married/Living together</td>\n",
       "      <td>Primary education</td>\n",
       "      <td>Informally employed</td>\n",
       "      <td>0</td>\n",
       "      <td>1</td>\n",
       "      <td>1</td>\n",
       "      <td>0</td>\n",
       "    </tr>\n",
       "    <tr>\n",
       "      <th>...</th>\n",
       "      <td>...</td>\n",
       "      <td>...</td>\n",
       "      <td>...</td>\n",
       "      <td>...</td>\n",
       "      <td>...</td>\n",
       "      <td>...</td>\n",
       "      <td>...</td>\n",
       "      <td>...</td>\n",
       "      <td>...</td>\n",
       "      <td>...</td>\n",
       "      <td>...</td>\n",
       "      <td>...</td>\n",
       "      <td>...</td>\n",
       "      <td>...</td>\n",
       "      <td>...</td>\n",
       "    </tr>\n",
       "    <tr>\n",
       "      <th>2618</th>\n",
       "      <td>Kenya</td>\n",
       "      <td>2018</td>\n",
       "      <td>Urban</td>\n",
       "      <td>Yes</td>\n",
       "      <td>1</td>\n",
       "      <td>24</td>\n",
       "      <td>Male</td>\n",
       "      <td>Head of Household</td>\n",
       "      <td>Married/Living together</td>\n",
       "      <td>Primary education</td>\n",
       "      <td>Informally employed</td>\n",
       "      <td>0</td>\n",
       "      <td>1</td>\n",
       "      <td>1</td>\n",
       "      <td>0</td>\n",
       "    </tr>\n",
       "    <tr>\n",
       "      <th>6369</th>\n",
       "      <td>Kenya</td>\n",
       "      <td>2018</td>\n",
       "      <td>Rural</td>\n",
       "      <td>Yes</td>\n",
       "      <td>10</td>\n",
       "      <td>45</td>\n",
       "      <td>Male</td>\n",
       "      <td>Head of Household</td>\n",
       "      <td>Married/Living together</td>\n",
       "      <td>Primary education</td>\n",
       "      <td>Farming and Fishing</td>\n",
       "      <td>1</td>\n",
       "      <td>0</td>\n",
       "      <td>1</td>\n",
       "      <td>0</td>\n",
       "    </tr>\n",
       "    <tr>\n",
       "      <th>11348</th>\n",
       "      <td>Tanzania</td>\n",
       "      <td>2017</td>\n",
       "      <td>Urban</td>\n",
       "      <td>No</td>\n",
       "      <td>2</td>\n",
       "      <td>47</td>\n",
       "      <td>Male</td>\n",
       "      <td>Spouse</td>\n",
       "      <td>Single/Never Married</td>\n",
       "      <td>Primary education</td>\n",
       "      <td>Self employed</td>\n",
       "      <td>0</td>\n",
       "      <td>0</td>\n",
       "      <td>1</td>\n",
       "      <td>0</td>\n",
       "    </tr>\n",
       "    <tr>\n",
       "      <th>9041</th>\n",
       "      <td>Tanzania</td>\n",
       "      <td>2017</td>\n",
       "      <td>Rural</td>\n",
       "      <td>Yes</td>\n",
       "      <td>2</td>\n",
       "      <td>33</td>\n",
       "      <td>Female</td>\n",
       "      <td>Spouse</td>\n",
       "      <td>Single/Never Married</td>\n",
       "      <td>Primary education</td>\n",
       "      <td>Remittance Dependent</td>\n",
       "      <td>1</td>\n",
       "      <td>0</td>\n",
       "      <td>1</td>\n",
       "      <td>0</td>\n",
       "    </tr>\n",
       "    <tr>\n",
       "      <th>1445</th>\n",
       "      <td>Kenya</td>\n",
       "      <td>2018</td>\n",
       "      <td>Urban</td>\n",
       "      <td>Yes</td>\n",
       "      <td>1</td>\n",
       "      <td>50</td>\n",
       "      <td>Male</td>\n",
       "      <td>Head of Household</td>\n",
       "      <td>Divorced/Seperated</td>\n",
       "      <td>Secondary education</td>\n",
       "      <td>Self employed</td>\n",
       "      <td>0</td>\n",
       "      <td>1</td>\n",
       "      <td>1</td>\n",
       "      <td>0</td>\n",
       "    </tr>\n",
       "  </tbody>\n",
       "</table>\n",
       "<p>9409 rows × 15 columns</p>\n",
       "</div>"
      ],
      "text/plain": [
       "        country  year location_type cellphone_access  household_size  \\\n",
       "3570     Rwanda  2016         Rural              Yes               7   \n",
       "9268      Kenya  2018         Urban              Yes               2   \n",
       "2726     Rwanda  2016         Rural              Yes               4   \n",
       "1181     Rwanda  2016         Rural              Yes               6   \n",
       "3115      Kenya  2018         Urban              Yes               6   \n",
       "...         ...   ...           ...              ...             ...   \n",
       "2618      Kenya  2018         Urban              Yes               1   \n",
       "6369      Kenya  2018         Rural              Yes              10   \n",
       "11348  Tanzania  2017         Urban               No               2   \n",
       "9041   Tanzania  2017         Rural              Yes               2   \n",
       "1445      Kenya  2018         Urban              Yes               1   \n",
       "\n",
       "       age_of_respondent gender_of_respondent relationship_with_head  \\\n",
       "3570                  73               Female      Head of Household   \n",
       "9268                  30               Female                 Spouse   \n",
       "2726                  17                 Male                  Child   \n",
       "1181                  35               Female                 Parent   \n",
       "3115                  29               Female                 Spouse   \n",
       "...                  ...                  ...                    ...   \n",
       "2618                  24                 Male      Head of Household   \n",
       "6369                  45                 Male      Head of Household   \n",
       "11348                 47                 Male                 Spouse   \n",
       "9041                  33               Female                 Spouse   \n",
       "1445                  50                 Male      Head of Household   \n",
       "\n",
       "                marital_status      education_level  \\\n",
       "3570                   Widowed    Primary education   \n",
       "9268   Married/Living together  Secondary education   \n",
       "2726      Single/Never Married  Secondary education   \n",
       "1181      Single/Never Married  Secondary education   \n",
       "3115   Married/Living together    Primary education   \n",
       "...                        ...                  ...   \n",
       "2618   Married/Living together    Primary education   \n",
       "6369   Married/Living together    Primary education   \n",
       "11348     Single/Never Married    Primary education   \n",
       "9041      Single/Never Married    Primary education   \n",
       "1445        Divorced/Seperated  Secondary education   \n",
       "\n",
       "                        job_type  rural_cellphone_access  \\\n",
       "3570         Farming and Fishing                       1   \n",
       "9268               Self employed                       0   \n",
       "2726         Farming and Fishing                       1   \n",
       "1181   Formally employed Private                       1   \n",
       "3115         Informally employed                       0   \n",
       "...                          ...                     ...   \n",
       "2618         Informally employed                       0   \n",
       "6369         Farming and Fishing                       1   \n",
       "11348              Self employed                       0   \n",
       "9041        Remittance Dependent                       1   \n",
       "1445               Self employed                       0   \n",
       "\n",
       "       urban_cellphone_access  provedor  bank_account  \n",
       "3570                        0         1             0  \n",
       "9268                        1         1             1  \n",
       "2726                        0         0             0  \n",
       "1181                        0         0             1  \n",
       "3115                        1         1             0  \n",
       "...                       ...       ...           ...  \n",
       "2618                        1         1             0  \n",
       "6369                        0         1             0  \n",
       "11348                       0         1             0  \n",
       "9041                        0         1             0  \n",
       "1445                        1         1             0  \n",
       "\n",
       "[9409 rows x 15 columns]"
      ]
     },
     "execution_count": 134,
     "metadata": {},
     "output_type": "execute_result"
    }
   ],
   "source": [
    "df3 = pd.concat([X_train, y_train], axis=1)\n",
    "df3"
   ]
  },
  {
   "cell_type": "code",
   "execution_count": 135,
   "id": "a74ac550",
   "metadata": {
    "ExecuteTime": {
     "end_time": "2022-05-28T16:37:30.578165Z",
     "start_time": "2022-05-28T16:37:30.574780Z"
    }
   },
   "outputs": [],
   "source": [
    "mms = pp.MinMaxScaler()"
   ]
  },
  {
   "cell_type": "markdown",
   "id": "c51e52dd",
   "metadata": {},
   "source": [
    "### Rescala"
   ]
  },
  {
   "cell_type": "code",
   "execution_count": 136,
   "id": "3f5565c9",
   "metadata": {
    "ExecuteTime": {
     "end_time": "2022-05-28T16:37:31.000895Z",
     "start_time": "2022-05-28T16:37:30.952246Z"
    }
   },
   "outputs": [],
   "source": [
    "df3['year'] = mms.fit_transform(df3[['year']])\n",
    "df3['household_size'] = mms.fit_transform(df3[['household_size']])\n",
    "df3['age_of_respondent'] = mms.fit_transform(df3[['age_of_respondent']])\n"
   ]
  },
  {
   "cell_type": "markdown",
   "id": "aee1b4ef",
   "metadata": {
    "ExecuteTime": {
     "end_time": "2022-05-28T14:02:22.308820Z",
     "start_time": "2022-05-28T14:02:22.282797Z"
    }
   },
   "source": [
    "### Encoding "
   ]
  },
  {
   "cell_type": "code",
   "execution_count": 137,
   "id": "0f4c12f7",
   "metadata": {
    "ExecuteTime": {
     "end_time": "2022-05-28T16:37:31.289264Z",
     "start_time": "2022-05-28T16:37:31.266933Z"
    }
   },
   "outputs": [],
   "source": [
    "df3 = pd.get_dummies(df3, prefix='gender', columns=['gender_of_respondent'])\n",
    "\n",
    "df3 = pd.get_dummies(df3, prefix='location_type', columns=['location_type'])"
   ]
  },
  {
   "cell_type": "code",
   "execution_count": 138,
   "id": "c4234109",
   "metadata": {
    "ExecuteTime": {
     "end_time": "2022-05-28T16:37:31.503652Z",
     "start_time": "2022-05-28T16:37:31.423151Z"
    }
   },
   "outputs": [],
   "source": [
    "#frequency, target, onehot, label\n",
    "\n",
    "\n",
    "#location type (OHE) \n",
    "\n",
    "# df3 = pd.get_dummies(df3, prefix='location_type', columns=['location_type'])\n",
    "\n",
    "#cellphone access (1,0)\n",
    "\n",
    "df3['cellphone_access'] = df3['cellphone_access'].apply(lambda x: 1 if x=='Yes' else 0)\n",
    "\n",
    "#gender (OHE)\n",
    "\n",
    "# df3 = pd.get_dummies(df3, prefix='gender', columns=['gender_of_respondent'])\n",
    "\n",
    "\n",
    "#country  -- \n",
    "\n",
    "target_encode_country = df3.groupby('country')['bank_account'].mean()\n",
    "df3.loc[:,'country'] = df3['country'].map(target_encode_country)\n",
    "\n",
    "\n",
    "#relationship_with_head\n",
    "\n",
    "target_encode_relationship_with_head = df3.groupby('relationship_with_head')['bank_account'].mean()\n",
    "df3.loc[:,'relationship_with_head'] = df3['relationship_with_head'].map(target_encode_relationship_with_head)\n",
    "\n",
    "\n",
    "#marital_status\n",
    "\n",
    "target_encode_marital_status = df3.groupby('marital_status')['bank_account'].mean()\n",
    "df3.loc[:,'marital_status'] = df3['marital_status'].map(target_encode_marital_status)\n",
    "\n",
    "\n",
    "#education_level\n",
    "\n",
    "target_encode_education_level = df3.groupby('education_level')['bank_account'].mean()\n",
    "df3.loc[:,'education_level'] = df3['education_level'].map(target_encode_education_level)\n",
    "\n",
    "#job_type\n",
    "\n",
    "target_encode_job_type = df3.groupby('job_type')['bank_account'].mean()\n",
    "df3.loc[:,'job_type'] = df3['job_type'].map(target_encode_job_type)"
   ]
  },
  {
   "cell_type": "code",
   "execution_count": 139,
   "id": "b7975faa",
   "metadata": {
    "ExecuteTime": {
     "end_time": "2022-05-28T16:37:31.611004Z",
     "start_time": "2022-05-28T16:37:31.599872Z"
    }
   },
   "outputs": [],
   "source": [
    "X = df3.drop(['bank_account'], axis=1)\n",
    "y = df3['bank_account'].copy()\n",
    "\n",
    "X_train, X_val, y_train, y_val = ms.train_test_split(X, y, test_size=0.2)"
   ]
  },
  {
   "cell_type": "markdown",
   "id": "75e2b3b8",
   "metadata": {},
   "source": [
    "# Feature Selection"
   ]
  },
  {
   "cell_type": "markdown",
   "id": "4d11a459",
   "metadata": {},
   "source": [
    "## Extra Trees Classifier"
   ]
  },
  {
   "cell_type": "code",
   "execution_count": 140,
   "id": "5a90555a",
   "metadata": {
    "ExecuteTime": {
     "end_time": "2022-05-28T16:37:32.093651Z",
     "start_time": "2022-05-28T16:37:32.085204Z"
    }
   },
   "outputs": [],
   "source": [
    "df4 = df3.copy()\n",
    "X_train_n = X_train.values\n",
    "y_train_n = y_train.values"
   ]
  },
  {
   "cell_type": "code",
   "execution_count": 141,
   "id": "9bc4d5c4",
   "metadata": {
    "ExecuteTime": {
     "end_time": "2022-05-28T16:37:33.667832Z",
     "start_time": "2022-05-28T16:37:32.328750Z"
    }
   },
   "outputs": [
    {
     "name": "stdout",
     "output_type": "stream",
     "text": [
      "Feature ranking:\n",
      "                  feature  importance\n",
      "0       age_of_respondent    0.312673\n",
      "0                job_type    0.170288\n",
      "0          household_size    0.145243\n",
      "0         education_level    0.140161\n",
      "0          marital_status    0.044809\n",
      "0                 country    0.041133\n",
      "0  relationship_with_head    0.030517\n",
      "0        cellphone_access    0.024885\n",
      "0                    year    0.020011\n",
      "0  urban_cellphone_access    0.015831\n",
      "0                provedor    0.015144\n",
      "0             gender_Male    0.010353\n",
      "0           gender_Female    0.009534\n",
      "0  rural_cellphone_access    0.007592\n",
      "0     location_type_Rural    0.006154\n",
      "0     location_type_Urban    0.005672\n"
     ]
    },
    {
     "data": {
      "image/png": "[encoded data removed]",
      "text/plain": [
       "<Figure size 600x400 with 1 Axes>"
      ]
     },
     "metadata": {},
     "output_type": "display_data"
    }
   ],
   "source": [
    "#model definition\n",
    "forest = en.ExtraTreesClassifier(n_estimators=250, random_state=3, n_jobs=-1)\n",
    "\n",
    "\n",
    "#data preparation\n",
    "X_train_n = X_train\n",
    "y_train_n = y_train.values\n",
    "forest.fit(X_train_n, y_train_n)\n",
    "importances = forest.feature_importances_\n",
    "std = np.std([tree.feature_importances_ for tree in forest.estimators_], axis=0)\n",
    "indices = np.argsort(importances)[::-1]\n",
    "\n",
    "#print the feature ranking\n",
    "print('Feature ranking:')\n",
    "df = pd.DataFrame()\n",
    "for i, j in zip(X_train_n, forest.feature_importances_):\n",
    "    aux = pd.DataFrame({'feature':i, 'importance': j},index=[0])\n",
    "    df = pd.concat([df,aux],axis=0)\n",
    "    \n",
    "print(df.sort_values('importance', ascending=False))\n",
    "\n",
    "#Plot the impurity-based feature importances of the forest\n",
    "plt.figure()\n",
    "plt.title('Feature Importances')\n",
    "plt.bar(range(X_train_n.shape[1]),importances[indices], color='r', yerr=std[indices], align='center')\n",
    "plt.xticks(range(X_train_n.shape[1]),indices)\n",
    "plt.xlim([-1, X_train_n.shape[1]])\n",
    "plt.show();"
   ]
  },
  {
   "cell_type": "code",
   "execution_count": 143,
   "id": "fd98252b",
   "metadata": {
    "ExecuteTime": {
     "end_time": "2022-05-28T16:37:53.819436Z",
     "start_time": "2022-05-28T16:37:53.810453Z"
    }
   },
   "outputs": [],
   "source": [
    "cols_selected = ['age_of_respondent',\n",
    "'job_type',\n",
    "'household_size',\n",
    "'education_level',\n",
    "                 'country',\n",
    "'relationship_with_head',\n",
    "'cellphone_access']\n",
    "\n"
   ]
  },
  {
   "cell_type": "code",
   "execution_count": 164,
   "id": "7ccee75d",
   "metadata": {
    "ExecuteTime": {
     "end_time": "2022-05-28T16:41:30.263616Z",
     "start_time": "2022-05-28T16:41:26.384098Z"
    }
   },
   "outputs": [
    {
     "name": "stdout",
     "output_type": "stream",
     "text": [
      "Iteration: \t1 / 100\n",
      "Confirmed: \t0\n",
      "Tentative: \t7\n",
      "Rejected: \t0\n",
      "Iteration: \t2 / 100\n",
      "Confirmed: \t0\n",
      "Tentative: \t7\n",
      "Rejected: \t0\n",
      "Iteration: \t3 / 100\n",
      "Confirmed: \t0\n",
      "Tentative: \t7\n",
      "Rejected: \t0\n",
      "Iteration: \t4 / 100\n",
      "Confirmed: \t0\n",
      "Tentative: \t7\n",
      "Rejected: \t0\n",
      "Iteration: \t5 / 100\n",
      "Confirmed: \t0\n",
      "Tentative: \t7\n",
      "Rejected: \t0\n",
      "Iteration: \t6 / 100\n",
      "Confirmed: \t0\n",
      "Tentative: \t7\n",
      "Rejected: \t0\n",
      "Iteration: \t7 / 100\n",
      "Confirmed: \t0\n",
      "Tentative: \t7\n",
      "Rejected: \t0\n",
      "Iteration: \t8 / 100\n",
      "Confirmed: \t1\n",
      "Tentative: \t1\n",
      "Rejected: \t5\n",
      "Iteration: \t9 / 100\n",
      "Confirmed: \t1\n",
      "Tentative: \t1\n",
      "Rejected: \t5\n",
      "Iteration: \t10 / 100\n",
      "Confirmed: \t1\n",
      "Tentative: \t1\n",
      "Rejected: \t5\n",
      "Iteration: \t11 / 100\n",
      "Confirmed: \t1\n",
      "Tentative: \t1\n",
      "Rejected: \t5\n",
      "Iteration: \t12 / 100\n",
      "Confirmed: \t1\n",
      "Tentative: \t1\n",
      "Rejected: \t5\n",
      "Iteration: \t13 / 100\n",
      "Confirmed: \t1\n",
      "Tentative: \t1\n",
      "Rejected: \t5\n",
      "Iteration: \t14 / 100\n",
      "Confirmed: \t1\n",
      "Tentative: \t1\n",
      "Rejected: \t5\n",
      "Iteration: \t15 / 100\n",
      "Confirmed: \t1\n",
      "Tentative: \t1\n",
      "Rejected: \t5\n",
      "Iteration: \t16 / 100\n",
      "Confirmed: \t1\n",
      "Tentative: \t1\n",
      "Rejected: \t5\n",
      "Iteration: \t17 / 100\n",
      "Confirmed: \t1\n",
      "Tentative: \t1\n",
      "Rejected: \t5\n",
      "Iteration: \t18 / 100\n",
      "Confirmed: \t1\n",
      "Tentative: \t1\n",
      "Rejected: \t5\n",
      "Iteration: \t19 / 100\n",
      "Confirmed: \t1\n",
      "Tentative: \t1\n",
      "Rejected: \t5\n",
      "Iteration: \t20 / 100\n",
      "Confirmed: \t1\n",
      "Tentative: \t1\n",
      "Rejected: \t5\n",
      "Iteration: \t21 / 100\n",
      "Confirmed: \t1\n",
      "Tentative: \t1\n",
      "Rejected: \t5\n",
      "Iteration: \t22 / 100\n",
      "Confirmed: \t1\n",
      "Tentative: \t1\n",
      "Rejected: \t5\n",
      "Iteration: \t23 / 100\n",
      "Confirmed: \t1\n",
      "Tentative: \t1\n",
      "Rejected: \t5\n",
      "Iteration: \t24 / 100\n",
      "Confirmed: \t1\n",
      "Tentative: \t1\n",
      "Rejected: \t5\n",
      "Iteration: \t25 / 100\n",
      "Confirmed: \t1\n",
      "Tentative: \t1\n",
      "Rejected: \t5\n",
      "Iteration: \t26 / 100\n",
      "Confirmed: \t1\n",
      "Tentative: \t1\n",
      "Rejected: \t5\n",
      "Iteration: \t27 / 100\n",
      "Confirmed: \t1\n",
      "Tentative: \t1\n",
      "Rejected: \t5\n",
      "Iteration: \t28 / 100\n",
      "Confirmed: \t1\n",
      "Tentative: \t1\n",
      "Rejected: \t5\n",
      "Iteration: \t29 / 100\n",
      "Confirmed: \t2\n",
      "Tentative: \t0\n",
      "Rejected: \t5\n",
      "\n",
      "\n",
      "BorutaPy finished running.\n",
      "\n",
      "Iteration: \t30 / 100\n",
      "Confirmed: \t2\n",
      "Tentative: \t0\n",
      "Rejected: \t5\n"
     ]
    }
   ],
   "source": [
    "\n",
    "#training and test dataset for Boruta\n",
    "#removing date and sales of train variables\n",
    "X_train_n = X_train.values\n",
    "y_train_n = y_train.values.ravel()\n",
    "\n",
    "#define RandomForestRegressor\n",
    "rf = en.RandomForestRegressor(n_jobs=-1)\n",
    "#define boruta\n",
    "boruta = BorutaPy(rf, n_estimators='auto', verbose=2, random_state=41).fit(X_train_n, y_train_n)"
   ]
  },
  {
   "cell_type": "code",
   "execution_count": 166,
   "id": "50565ed4",
   "metadata": {
    "ExecuteTime": {
     "end_time": "2022-05-28T16:41:54.090014Z",
     "start_time": "2022-05-28T16:41:54.082482Z"
    }
   },
   "outputs": [],
   "source": [
    "cols_selected = boruta.support_.tolist()\n",
    "\n",
    "#best features\n",
    "X_train_fs = X_train\n",
    "cols_selected_boruta = X_train_fs.iloc[:, cols_selected].columns.to_list()\n",
    "\n",
    "#not selected boruta\n",
    "cols_not_selected_boruta = list(np.setdiff1d(X_train_fs.columns , cols_selected_boruta))"
   ]
  },
  {
   "cell_type": "code",
   "execution_count": 167,
   "id": "8fc6a389",
   "metadata": {
    "ExecuteTime": {
     "end_time": "2022-05-28T16:42:01.014063Z",
     "start_time": "2022-05-28T16:42:01.006041Z"
    }
   },
   "outputs": [
    {
     "data": {
      "text/plain": [
       "['age_of_respondent', 'job_type']"
      ]
     },
     "execution_count": 167,
     "metadata": {},
     "output_type": "execute_result"
    }
   ],
   "source": [
    "cols_selected_boruta"
   ]
  },
  {
   "cell_type": "code",
   "execution_count": 144,
   "id": "b69eaf1c",
   "metadata": {
    "ExecuteTime": {
     "end_time": "2022-05-28T16:37:55.139814Z",
     "start_time": "2022-05-28T16:37:55.130177Z"
    }
   },
   "outputs": [],
   "source": [
    "X_train = X_train[cols_selected]\n",
    "X_val = X_val[cols_selected]\n"
   ]
  },
  {
   "cell_type": "markdown",
   "id": "859b055f",
   "metadata": {},
   "source": [
    "# Modelo de ML"
   ]
  },
  {
   "cell_type": "markdown",
   "id": "e5ff0104",
   "metadata": {
    "ExecuteTime": {
     "end_time": "2022-05-28T15:00:48.284346Z",
     "start_time": "2022-05-28T15:00:45.079875Z"
    }
   },
   "source": [
    "## Random Forest Classifier"
   ]
  },
  {
   "cell_type": "code",
   "execution_count": 145,
   "id": "ab349c96",
   "metadata": {
    "ExecuteTime": {
     "end_time": "2022-05-28T16:37:57.079472Z",
     "start_time": "2022-05-28T16:37:56.521797Z"
    }
   },
   "outputs": [
    {
     "data": {
      "text/plain": [
       "0.4421487603305785"
      ]
     },
     "execution_count": 145,
     "metadata": {},
     "output_type": "execute_result"
    }
   ],
   "source": [
    "#model definition\n",
    "rf_model = en.RandomForestClassifier()\n",
    "\n",
    "#model training\n",
    "rf_model.fit(X_train, y_train)\n",
    "\n",
    "#model predict\n",
    "yhat_rf = rf_model.predict(X_val)\n",
    "\n",
    "#metricas\n",
    "metrics.f1_score(y_val, yhat_rf)"
   ]
  },
  {
   "cell_type": "code",
   "execution_count": 146,
   "id": "a1ac58ae",
   "metadata": {
    "ExecuteTime": {
     "end_time": "2022-05-28T16:37:58.735174Z",
     "start_time": "2022-05-28T16:37:58.721558Z"
    }
   },
   "outputs": [
    {
     "data": {
      "text/plain": [
       "0.8565356004250797"
      ]
     },
     "execution_count": 146,
     "metadata": {},
     "output_type": "execute_result"
    }
   ],
   "source": [
    "metrics.accuracy_score(y_val, yhat_rf)"
   ]
  },
  {
   "cell_type": "code",
   "execution_count": 147,
   "id": "7b11b364",
   "metadata": {
    "ExecuteTime": {
     "end_time": "2022-05-28T16:37:58.984334Z",
     "start_time": "2022-05-28T16:37:58.974773Z"
    }
   },
   "outputs": [
    {
     "data": {
      "text/plain": [
       "0.6619881462487488"
      ]
     },
     "execution_count": 147,
     "metadata": {},
     "output_type": "execute_result"
    }
   ],
   "source": [
    "metrics.balanced_accuracy_score(y_val, yhat_rf)"
   ]
  },
  {
   "cell_type": "code",
   "execution_count": 148,
   "id": "f9382445",
   "metadata": {
    "ExecuteTime": {
     "end_time": "2022-05-28T16:37:59.527080Z",
     "start_time": "2022-05-28T16:37:59.513573Z"
    }
   },
   "outputs": [
    {
     "data": {
      "text/plain": [
       "0.3862815884476534"
      ]
     },
     "execution_count": 148,
     "metadata": {},
     "output_type": "execute_result"
    }
   ],
   "source": [
    "metrics.recall_score(y_val, yhat_rf)"
   ]
  },
  {
   "cell_type": "code",
   "execution_count": 149,
   "id": "df4057d6",
   "metadata": {
    "ExecuteTime": {
     "end_time": "2022-05-28T16:38:00.337244Z",
     "start_time": "2022-05-28T16:38:00.180244Z"
    }
   },
   "outputs": [
    {
     "data": {
      "image/png": "[encoded data removed]",
      "text/plain": [
       "<Figure size 600x400 with 2 Axes>"
      ]
     },
     "metadata": {},
     "output_type": "display_data"
    }
   ],
   "source": [
    "skplt.metrics.plot_confusion_matrix(y_val, yhat_rf);"
   ]
  },
  {
   "cell_type": "markdown",
   "id": "a0173281",
   "metadata": {
    "ExecuteTime": {
     "end_time": "2022-05-28T16:31:19.472895Z",
     "start_time": "2022-05-28T16:31:17.702714Z"
    }
   },
   "source": [
    "## XGBoost"
   ]
  },
  {
   "cell_type": "code",
   "execution_count": 150,
   "id": "87aee9c8",
   "metadata": {
    "ExecuteTime": {
     "end_time": "2022-05-28T16:38:26.346349Z",
     "start_time": "2022-05-28T16:38:26.056183Z"
    }
   },
   "outputs": [
    {
     "data": {
      "text/plain": [
       "0.48387096774193555"
      ]
     },
     "execution_count": 150,
     "metadata": {},
     "output_type": "execute_result"
    }
   ],
   "source": [
    "#model definition\n",
    "xgb_model = xgboost.XGBClassifier()\n",
    "#model training\n",
    "xgb_model.fit(X_train, y_train)\n",
    "\n",
    "#model predict\n",
    "yhat_xgb = xgb_model.predict(X_val)\n",
    "\n",
    "#metricas\n",
    "metrics.f1_score(y_val, yhat_xgb)"
   ]
  },
  {
   "cell_type": "code",
   "execution_count": 151,
   "id": "f75f8d12",
   "metadata": {
    "ExecuteTime": {
     "end_time": "2022-05-28T16:38:27.059936Z",
     "start_time": "2022-05-28T16:38:27.046731Z"
    }
   },
   "outputs": [
    {
     "data": {
      "text/plain": [
       "0.8809776833156217"
      ]
     },
     "execution_count": 151,
     "metadata": {},
     "output_type": "execute_result"
    }
   ],
   "source": [
    "metrics.accuracy_score(y_val, yhat_xgb)"
   ]
  },
  {
   "cell_type": "code",
   "execution_count": 152,
   "id": "7a287572",
   "metadata": {
    "ExecuteTime": {
     "end_time": "2022-05-28T16:38:27.238432Z",
     "start_time": "2022-05-28T16:38:27.229766Z"
    }
   },
   "outputs": [
    {
     "data": {
      "text/plain": [
       "0.6733313089735371"
      ]
     },
     "execution_count": 152,
     "metadata": {},
     "output_type": "execute_result"
    }
   ],
   "source": [
    "metrics.balanced_accuracy_score(y_val, yhat_xgb)"
   ]
  },
  {
   "cell_type": "code",
   "execution_count": 153,
   "id": "82d89c19",
   "metadata": {
    "ExecuteTime": {
     "end_time": "2022-05-28T16:38:27.405990Z",
     "start_time": "2022-05-28T16:38:27.397897Z"
    }
   },
   "outputs": [
    {
     "data": {
      "text/plain": [
       "0.37906137184115524"
      ]
     },
     "execution_count": 153,
     "metadata": {},
     "output_type": "execute_result"
    }
   ],
   "source": [
    "metrics.recall_score(y_val, yhat_xgb)"
   ]
  },
  {
   "cell_type": "code",
   "execution_count": 154,
   "id": "9319863c",
   "metadata": {
    "ExecuteTime": {
     "end_time": "2022-05-28T16:38:27.724917Z",
     "start_time": "2022-05-28T16:38:27.547390Z"
    }
   },
   "outputs": [
    {
     "data": {
      "image/png": "[encoded data removed]",
      "text/plain": [
       "<Figure size 600x400 with 2 Axes>"
      ]
     },
     "metadata": {},
     "output_type": "display_data"
    }
   ],
   "source": [
    "skplt.metrics.plot_confusion_matrix(y_val, yhat_xgb);"
   ]
  },
  {
   "cell_type": "code",
   "execution_count": 155,
   "id": "f61a7221",
   "metadata": {
    "ExecuteTime": {
     "end_time": "2022-05-28T16:38:27.730447Z",
     "start_time": "2022-05-28T16:38:27.728231Z"
    }
   },
   "outputs": [],
   "source": [
    "#balanceamento\n",
    "\n",
    "#feature selection - boruta, extra trees, rankd\n",
    "\n",
    "#eda mais profunda"
   ]
  }
 ],
 "metadata": {
  "kernelspec": {
   "display_name": "Python 3 (ipykernel)",
   "language": "python",
   "name": "python3"
  },
  "language_info": {
   "codemirror_mode": {
    "name": "ipython",
    "version": 3
   },
   "file_extension": ".py",
   "mimetype": "text/x-python",
   "name": "python",
   "nbconvert_exporter": "python",
   "pygments_lexer": "ipython3",
   "version": "3.8.10"
  }
 },
 "nbformat": 4,
 "nbformat_minor": 5
}
